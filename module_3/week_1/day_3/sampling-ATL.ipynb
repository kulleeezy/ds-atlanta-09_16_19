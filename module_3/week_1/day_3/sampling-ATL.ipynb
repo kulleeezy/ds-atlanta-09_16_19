{
 "cells": [
  {
   "cell_type": "markdown",
   "metadata": {
    "slideshow": {
     "slide_type": "slide"
    }
   },
   "source": [
    "# Sampling and Confidence Intervals"
   ]
  },
  {
   "cell_type": "markdown",
   "metadata": {
    "slideshow": {
     "slide_type": "slide"
    }
   },
   "source": [
    "## Population Inference"
   ]
  },
  {
   "cell_type": "markdown",
   "metadata": {
    "slideshow": {
     "slide_type": "fragment"
    }
   },
   "source": [
    "The mayor's office has hired Flatiron Data Science Immersive students to determine a way to fix traffic congestion. A good starting point is to determine what proportion of the population of Atlanta owns a car.\n",
    "\n",
    "In order for us to make any determinations about a population, we must first get information about it.\n",
    "\n",
    "Because it's impractical to get data about *everyone* in a population, we take a sample."
   ]
  },
  {
   "cell_type": "markdown",
   "metadata": {
    "slideshow": {
     "slide_type": "slide"
    }
   },
   "source": [
    "Our sample should be:\n",
    "\n",
    "* Randomly selected- every item should have an *equal* chance of being selected\n",
    "* Representative of our population\n",
    "\n",
    "![pop](./img/sample_pop.png)"
   ]
  },
  {
   "cell_type": "markdown",
   "metadata": {
    "slideshow": {
     "slide_type": "slide"
    }
   },
   "source": [
    "**Random sampling is not easy to do, let's look at an example:**\n",
    "\n",
    "Imagine you are trying to determine the proportion of people in metro Atlanta that own a car.\n",
    "\n",
    "* Stand outside of Flatiron at 12 pm and ask random people until *n* responses\n",
    "\n",
    "\n",
    "* Go to a randomly assigned street corner and at a random time and ask *n* people if they own a car\n",
    "\n"
   ]
  },
  {
   "cell_type": "markdown",
   "metadata": {
    "slideshow": {
     "slide_type": "fragment"
    }
   },
   "source": [
    "When we gather a sample, we are trying to minimize the bias of our sample while also minimizing our cost."
   ]
  },
  {
   "cell_type": "markdown",
   "metadata": {
    "slideshow": {
     "slide_type": "slide"
    }
   },
   "source": [
    "##### Population v Sample Terminology\n",
    "Measurable characteristics of populations are called *parameters*\n",
    "\n",
    "Measurable characteristics of a sample are called *statistics* or *point estimates*\n",
    "\n",
    "![imgsample](./img/sample_stats.png)"
   ]
  },
  {
   "cell_type": "markdown",
   "metadata": {
    "slideshow": {
     "slide_type": "slide"
    }
   },
   "source": [
    "## Central Limit Theorem"
   ]
  },
  {
   "cell_type": "markdown",
   "metadata": {
    "slideshow": {
     "slide_type": "slide"
    }
   },
   "source": [
    "If we take repeated samples of a population, the sampling distribution of **sample means** will approximate a normal distribution with mean $\\mu$ and variance $\\frac{\\sigma^2}{n}$:\n",
    "\n",
    " $$E(\\bar{x_n}) = \\mu$$\n",
    "\n",
    "$$as\\ n --> {\\infty}$$\n",
    "\n",
    "\n",
    "[good video demonstration](https://www.youtube.com/watch?v=jvoxEYmQHNM)\n"
   ]
  },
  {
   "cell_type": "markdown",
   "metadata": {},
   "source": [
    "## Standard error of the Mean (SEM)"
   ]
  },
  {
   "cell_type": "markdown",
   "metadata": {},
   "source": [
    "-  is the standard deviation of the sampling distribution of the mean."
   ]
  },
  {
   "cell_type": "markdown",
   "metadata": {},
   "source": [
    "## $$ \\sigma_{\\bar{x}} = \\frac{\\sigma}{\\sqrt{n}} \\approx \\frac{s}{\\sqrt{n}}$$\n"
   ]
  },
  {
   "cell_type": "markdown",
   "metadata": {},
   "source": [
    "## Example why this is Important"
   ]
  },
  {
   "cell_type": "markdown",
   "metadata": {
    "slideshow": {
     "slide_type": "slide"
    }
   },
   "source": [
    "### An Example\n",
    "A bicycle advocacy group has come to us to see if it would make sense to increase the length of time users of Capital Bike Share have to ride on their bikes before they have to return them. Let's analyze a collection of Capital Bike Share data to determine if we should lengthen the time people have with their bikes."
   ]
  },
  {
   "cell_type": "code",
<<<<<<< HEAD
   "execution_count": 1,
=======
   "execution_count": 3,
>>>>>>> e2804d706a2299038e1989eb789f78cd9e938c63
   "metadata": {
    "slideshow": {
     "slide_type": "subslide"
    }
   },
   "outputs": [],
   "source": [
    "import pandas as pd\n",
    "import numpy as np\n",
    "import matplotlib.pyplot as plt\n",
    "import seaborn as sns\n",
    "%matplotlib inline\n",
    "df = pd.read_csv('data/201904-capitalbikeshare-tripdata.csv')"
   ]
  },
  {
   "cell_type": "code",
<<<<<<< HEAD
   "execution_count": 2,
=======
   "execution_count": 4,
>>>>>>> e2804d706a2299038e1989eb789f78cd9e938c63
   "metadata": {
    "slideshow": {
     "slide_type": "slide"
    }
   },
   "outputs": [
    {
     "data": {
      "text/html": [
       "<div>\n",
       "<style scoped>\n",
       "    .dataframe tbody tr th:only-of-type {\n",
       "        vertical-align: middle;\n",
       "    }\n",
       "\n",
       "    .dataframe tbody tr th {\n",
       "        vertical-align: top;\n",
       "    }\n",
       "\n",
       "    .dataframe thead th {\n",
       "        text-align: right;\n",
       "    }\n",
       "</style>\n",
       "<table border=\"1\" class=\"dataframe\">\n",
       "  <thead>\n",
       "    <tr style=\"text-align: right;\">\n",
       "      <th></th>\n",
       "      <th>Duration</th>\n",
       "      <th>Start date</th>\n",
       "      <th>End date</th>\n",
       "      <th>Start station number</th>\n",
       "      <th>Start station</th>\n",
       "      <th>End station number</th>\n",
       "      <th>End station</th>\n",
       "      <th>Bike number</th>\n",
       "      <th>Member type</th>\n",
       "    </tr>\n",
       "  </thead>\n",
       "  <tbody>\n",
       "    <tr>\n",
       "      <th>0</th>\n",
       "      <td>313</td>\n",
       "      <td>2019-04-01 00:03:03</td>\n",
       "      <td>2019-04-01 00:08:16</td>\n",
       "      <td>31618</td>\n",
       "      <td>4th &amp; East Capitol St NE</td>\n",
       "      <td>31630</td>\n",
       "      <td>15th &amp; East Capitol St NE</td>\n",
       "      <td>W24063</td>\n",
       "      <td>Member</td>\n",
       "    </tr>\n",
       "    <tr>\n",
       "      <th>1</th>\n",
       "      <td>453</td>\n",
       "      <td>2019-04-01 00:07:37</td>\n",
       "      <td>2019-04-01 00:15:10</td>\n",
       "      <td>31119</td>\n",
       "      <td>14th &amp; Belmont St NW</td>\n",
       "      <td>31298</td>\n",
       "      <td>15th &amp; M St NW</td>\n",
       "      <td>W22080</td>\n",
       "      <td>Member</td>\n",
       "    </tr>\n",
       "    <tr>\n",
       "      <th>2</th>\n",
       "      <td>333</td>\n",
       "      <td>2019-04-01 00:09:31</td>\n",
       "      <td>2019-04-01 00:15:05</td>\n",
       "      <td>31203</td>\n",
       "      <td>14th &amp; Rhode Island Ave NW</td>\n",
       "      <td>31519</td>\n",
       "      <td>1st &amp; O St NW</td>\n",
       "      <td>W00276</td>\n",
       "      <td>Member</td>\n",
       "    </tr>\n",
       "    <tr>\n",
       "      <th>3</th>\n",
       "      <td>568</td>\n",
       "      <td>2019-04-01 00:10:20</td>\n",
       "      <td>2019-04-01 00:19:49</td>\n",
       "      <td>31202</td>\n",
       "      <td>14th &amp; R St NW</td>\n",
       "      <td>31103</td>\n",
       "      <td>16th &amp; Harvard St NW</td>\n",
       "      <td>W21582</td>\n",
       "      <td>Member</td>\n",
       "    </tr>\n",
       "    <tr>\n",
       "      <th>4</th>\n",
       "      <td>1609</td>\n",
       "      <td>2019-04-01 00:10:38</td>\n",
       "      <td>2019-04-01 00:37:28</td>\n",
       "      <td>31517</td>\n",
       "      <td>Union Market</td>\n",
       "      <td>31655</td>\n",
       "      <td>New Jersey Ave &amp; F St NW</td>\n",
       "      <td>75558</td>\n",
       "      <td>Member</td>\n",
       "    </tr>\n",
       "  </tbody>\n",
       "</table>\n",
       "</div>"
      ],
      "text/plain": [
       "   Duration           Start date             End date  Start station number  \\\n",
       "0       313  2019-04-01 00:03:03  2019-04-01 00:08:16                 31618   \n",
       "1       453  2019-04-01 00:07:37  2019-04-01 00:15:10                 31119   \n",
       "2       333  2019-04-01 00:09:31  2019-04-01 00:15:05                 31203   \n",
       "3       568  2019-04-01 00:10:20  2019-04-01 00:19:49                 31202   \n",
       "4      1609  2019-04-01 00:10:38  2019-04-01 00:37:28                 31517   \n",
       "\n",
       "                Start station  End station number                End station  \\\n",
       "0    4th & East Capitol St NE               31630  15th & East Capitol St NE   \n",
       "1        14th & Belmont St NW               31298             15th & M St NW   \n",
       "2  14th & Rhode Island Ave NW               31519              1st & O St NW   \n",
       "3              14th & R St NW               31103       16th & Harvard St NW   \n",
       "4                Union Market               31655   New Jersey Ave & F St NW   \n",
       "\n",
       "  Bike number Member type  \n",
       "0      W24063      Member  \n",
       "1      W22080      Member  \n",
       "2      W00276      Member  \n",
       "3      W21582      Member  \n",
       "4       75558      Member  "
      ]
     },
<<<<<<< HEAD
     "execution_count": 2,
=======
     "execution_count": 4,
>>>>>>> e2804d706a2299038e1989eb789f78cd9e938c63
     "metadata": {},
     "output_type": "execute_result"
    }
   ],
   "source": [
    "df.head()"
   ]
  },
  {
   "cell_type": "code",
<<<<<<< HEAD
   "execution_count": 3,
=======
   "execution_count": 5,
>>>>>>> e2804d706a2299038e1989eb789f78cd9e938c63
   "metadata": {
    "slideshow": {
     "slide_type": "subslide"
    }
   },
   "outputs": [
    {
     "data": {
      "text/plain": [
       "0           5.216667\n",
       "1           7.550000\n",
       "2           5.550000\n",
       "3           9.466667\n",
       "4          26.816667\n",
       "5           5.933333\n",
       "6           4.066667\n",
       "7          19.266667\n",
       "8           3.050000\n",
       "9           5.366667\n",
       "10         22.150000\n",
       "11         12.416667\n",
       "12         13.966667\n",
       "13          6.950000\n",
       "14          6.766667\n",
       "15          3.550000\n",
       "16         23.316667\n",
       "17          2.933333\n",
       "18          9.866667\n",
       "19          6.333333\n",
       "20         22.700000\n",
       "21          9.683333\n",
       "22          7.666667\n",
       "23          7.266667\n",
       "24        747.916667\n",
       "25        747.466667\n",
       "26          6.983333\n",
       "27          2.133333\n",
       "28         23.483333\n",
       "29          9.833333\n",
       "             ...    \n",
       "347962     25.483333\n",
       "347963      7.066667\n",
       "347964      2.216667\n",
       "347965     20.500000\n",
       "347966     13.700000\n",
       "347967     10.750000\n",
       "347968      5.050000\n",
       "347969     15.833333\n",
       "347970      2.483333\n",
       "347971     21.750000\n",
       "347972      5.250000\n",
       "347973     13.083333\n",
       "347974      4.033333\n",
       "347975      2.633333\n",
       "347976     29.933333\n",
       "347977      9.266667\n",
       "347978      9.166667\n",
       "347979      7.316667\n",
       "347980     12.416667\n",
       "347981     14.716667\n",
       "347982      4.033333\n",
       "347983     21.666667\n",
       "347984     20.900000\n",
       "347985     31.666667\n",
       "347986      5.316667\n",
       "347987     20.283333\n",
       "347988     27.700000\n",
       "347989     21.033333\n",
       "347990      7.550000\n",
       "347991      1.350000\n",
       "Name: Duration, Length: 347992, dtype: float64"
      ]
     },
<<<<<<< HEAD
     "execution_count": 3,
=======
     "execution_count": 5,
>>>>>>> e2804d706a2299038e1989eb789f78cd9e938c63
     "metadata": {},
     "output_type": "execute_result"
    }
   ],
   "source": [
    "trip_durations = df['Duration']/60\n",
    "trip_durations"
   ]
  },
  {
   "cell_type": "markdown",
   "metadata": {},
   "source": [
    "#### The length of a bike ride is not normally distributed"
   ]
  },
  {
   "cell_type": "code",
<<<<<<< HEAD
   "execution_count": 4,
=======
   "execution_count": 6,
>>>>>>> e2804d706a2299038e1989eb789f78cd9e938c63
   "metadata": {
    "slideshow": {
     "slide_type": "-"
    }
   },
   "outputs": [
    {
     "data": {
<<<<<<< HEAD
      "image/png": "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\n",
=======
      "image/png": "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\n",
>>>>>>> e2804d706a2299038e1989eb789f78cd9e938c63
      "text/plain": [
       "<Figure size 432x288 with 1 Axes>"
      ]
     },
     "metadata": {
      "needs_background": "light"
     },
     "output_type": "display_data"
    }
   ],
   "source": [
    "trip_durations.hist(bins=70)\n",
    "plt.show()"
   ]
  },
  {
   "cell_type": "code",
<<<<<<< HEAD
   "execution_count": 5,
=======
   "execution_count": 7,
>>>>>>> e2804d706a2299038e1989eb789f78cd9e938c63
   "metadata": {
    "scrolled": false,
    "slideshow": {
     "slide_type": "-"
    }
   },
   "outputs": [
    {
     "name": "stdout",
     "output_type": "stream",
     "text": [
<<<<<<< HEAD
      "pop_mean is 20.758011774217035 \n",
      "pop_std is 41.518588069575586\n"
=======
      "pop_mean is 20.758011774216833 \n",
      "pop_std is 41.51858806957617\n"
>>>>>>> e2804d706a2299038e1989eb789f78cd9e938c63
     ]
    }
   ],
   "source": [
    "pop_mean = trip_durations.mean()\n",
    "pop_std = trip_durations.std()\n",
    "print('pop_mean is {} \\npop_std is {}'.format(pop_mean,pop_std))"
   ]
  },
  {
   "cell_type": "markdown",
   "metadata": {
    "slideshow": {
     "slide_type": "slide"
    }
   },
   "source": [
    "### What happens when we take multiple samples  from the population and plot the distribution of each sample?"
   ]
  },
  {
   "cell_type": "code",
<<<<<<< HEAD
   "execution_count": 6,
=======
   "execution_count": 13,
>>>>>>> e2804d706a2299038e1989eb789f78cd9e938c63
   "metadata": {
    "slideshow": {
     "slide_type": "slide"
    }
   },
   "outputs": [],
   "source": [
    "import numpy as np\n",
    "import seaborn as sns\n",
    "def central_limit_theorem_plotter(distribution, sample_size, num_samples):\n",
    "    sample_means = np.zeros(num_samples)\n",
    "    for idx, num in enumerate(range(num_samples)):\n",
    "        sample = np.random.choice(distribution, size=sample_size, replace=True)\n",
    "        sample_means[idx] = sample.mean()\n",
    "    sns.distplot(sample_means, bins=50, kde=True)\n",
    "    title = 'Sample Distribution n = {} and number of samples = {}, std error = {}'.format(\n",
    "        sample_size, num_samples, pop_std/num_samples)\n",
    "    plt.title(title)\n",
    "    print('mean = {}'.format(sample_means.mean()))"
   ]
  },
  {
   "cell_type": "code",
<<<<<<< HEAD
   "execution_count": 7,
=======
   "execution_count": 17,
>>>>>>> e2804d706a2299038e1989eb789f78cd9e938c63
   "metadata": {
    "scrolled": true,
    "slideshow": {
     "slide_type": "slide"
    }
   },
   "outputs": [
    {
<<<<<<< HEAD
     "name": "stderr",
     "output_type": "stream",
     "text": [
      "/Users/Kulle/anaconda3/envs/learn-env/lib/python3.6/site-packages/scipy/stats/stats.py:1713: FutureWarning: Using a non-tuple sequence for multidimensional indexing is deprecated; use `arr[tuple(seq)]` instead of `arr[seq]`. In the future this will be interpreted as an array index, `arr[np.array(seq)]`, which will result either in an error or a different result.\n",
      "  return np.add.reduce(sorted[indexer] * weights, axis=axis) / sumval\n"
     ]
    },
    {
     "name": "stdout",
     "output_type": "stream",
     "text": [
      "mean = 20.75075833333333\n"
=======
     "name": "stdout",
     "output_type": "stream",
     "text": [
      "mean = 20.922606666666667\n"
>>>>>>> e2804d706a2299038e1989eb789f78cd9e938c63
     ]
    },
    {
     "data": {
<<<<<<< HEAD
      "image/png": "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\n",
=======
      "image/png": "iVBORw0KGgoAAAANSUhEUgAAAlYAAAEICAYAAACdyboFAAAABHNCSVQICAgIfAhkiAAAAAlwSFlzAAALEgAACxIB0t1+/AAAADl0RVh0U29mdHdhcmUAbWF0cGxvdGxpYiB2ZXJzaW9uIDMuMC4zLCBodHRwOi8vbWF0cGxvdGxpYi5vcmcvnQurowAAIABJREFUeJzt3XmcHVWZ//HP0/f2vmbpLJ2FAAlCQBaN4ILKDIrgQvQnjOAGI8rPmWGcUWcUNwbRccSZkdHRceQnCKIRFceZjKK4ICKogSBrCIEQQhKydbqT9L4/vz9O3VC5ud3p7tylOvm+X69+9b1Vp6qeW1W37lPnnKoyd0dEREREDl1ZqQMQEREROVwosRIRERHJEyVWIiIiInmixEpEREQkT5RYiYiIiOSJEisRERGRPJkyiZWZXW1m3y7g/P/TzD6Vp3ktNLMuM0tF7+8ys/fmY97R/H5qZpfka34SmNlGM3tNAuK4ycw+W6Jlm5l908x2m9l9pYjhYMxskZm5maVLHcvhSOtX5NAcNLEyszPN7HdmttfM2s3sXjN7STGCy5foB7PXzDrNbE/0ed5vZvs+v7u/390/M855jfnj6+6b3L3O3YfzEPsBCaW7n+fuNx/qvEvBzCrM7LZoPbqZnZU13szsWjNri/6+YGZWonCPRGcCrwXmu/vppQ4m6Q51fzazU83sATPrif6fOt5pJxnvEZ80mdkHzWx79Jt2o5lVjlH2bDN7Ito+vzazo3KUmW5mrWZ2T2zYwfaLq81sMDoBz/wdExt/vZmtM7MRM7s0a1ozs8+a2XPRZ7jLzE6Mjb/JzAay5p2Kjf8zM1sb/R4+bmZvnsC8K6N11hGtww9lxVZjZv9hZrui6e+OjWsys5vNbGf0d3XWtJnf6UzMP4+N+8+sz9NvZp1Z018Ufa5uM3vazF45nm0RlXmRmd0dzXuHmf1N1vi/MbNnonmvNbPjsucRN2ZiZWYNwI+BfwemA/OATwP9Y02XUG9y93rgKODzwEeBG/K9kCP5gDUB9wDvBLbnGHc58GbgFOBk4I3A/y1eaIeX+AF1nI4CNrp7dyHiOUxNan82swrgf4BvA9OAm4H/iYaPOe1Uket4ONFjZD6PqWb2OuBK4GxgEXAM4TctV9mZwH8BnyL8/q0Gvpej6LXA2hzDx9ovAL4XnYBn/jbExj0M/CXwxxzTXQi8B3hlFNfvgVuyynwha97D0WeaR9jfPgQ0AH8PrDCzWeOc99XAEsJx4k+Aj5jZubHx10fTnRD9/2Bs3HVADWG9nw68y8z+PCvuN8ViPiczMKr42Pd5gO8CP8iMN7PXErbDnwP1wKuA+PocdVtE2/lnwNeBGcBiIJ7UvRe4DHgDUEf4Hu7Kns9+3H3UP2AZsGeM8ccCdwJt0YK+AzTFxm8kbLhHgG5CIjMb+CnQCfwSmBaVXQQ44WCyFdgGfDg2r6uBb8fevxT4HbCHsBOeNUacG4HXZA07HRgBTore3wR8Nno9k5BQ7gHagd8SktBboml6gS7gI7G4LwM2AXfHhqWj+d0F/BNwH7CXcDCdHo07C9iSK17gXGAAGIyW93Bsfu+NXpcBnwSeBXYC3wIas9bpJVFsu4BPjLGebgK+Cvwk2j6rgGPH2kcO5Q/Ykr3dom16eez9ZcAfRpl+WrSdWoHd0ev5sfF3AZ8B7o0+z8+BmbHx74rWWxvwiVz7yXjWTfb2zrGNLo1iuC7apzYAL4+Gb4622yVZy/pP4BfRsn4DHBUbf3w0rh1YB/xZ1rRfA24nfOcO+DxAC7Aymn498L7Yuu4DhqP97dM5pl0cxbM32p++Fxv3pejzdAAPAK/M+v7+gHBQ7wQeBY4DPhZ9/s3AOVnrb7TvzH7rG2gkHFu2Ac8BnwVSB4u31PszcE4Ur8XGbwLOneh3IUcspxMSgQ5gB/DF2Pw92r5dwMuAFPAv0frZAPwVWftzjv3nh4Tv3TPAB7K2823Rdu4A3jvKsErg3wjH+q3R68poHmdF6/KjhB/CW/K4jVYAn4u9PxvYPkrZy4Hfxd7XEo79x8eGvYyQfPw5cM8E9ourif2ejRHvPcClWcM+Cnw/9v5EoC/rGPDZUeZ3BrAza1gr8LJxzvs59v+efga4NXr9gmj7Noyy7F3AS2LvPw78NvZ+I6Mcf7PmU0s4hrw663t22SS/o58bbR8j/L5uBs6eyH52sKbAJ4HhqPruPDObljXeCAe/FkKGuiDaYeLeSmhaOA54EyGp+jgheSkDPpBV/k8IGfE5wJWWo9ktyrp/QjiATgf+DvihmTUf5PPs4+73EVbyK3OM/nA0rpmQCH48TOLvIhyYMln1F2LTvJqwDl43yiLfTTgTaAGGgC+PI8afETZ65szmlBzFLo3+/oRw9lUHfCWrzJmEnf5s4CozO2GMxV5MOIObRvjR/cfRClpoVh3t78qDfb5RnEhIlDMejoblUgZ8k3D2tJBw0Mv+7G8nHPRmARWEfQUzW0pIQN5F2CYzgPkHiW3c6yaHMwgnGDMIB/dbgZcQfvjfCXzFzOpi5d9BOGjNBB4inLRgZrWEpGpF9JkuBv4jXl0ffeZ/JJy53cOBvkvYv1uAC4DPmdnZ7n4D8H7g99H+9g85pv0MIUGdRlhf/x4bdz9wKuE7uQL4gZlVxca/iXByMg14ELiDsA3nAdcQzhjjxvuduTkavxg4jXDsyPRpHCve/ZRgfz4ReMSjI3jkkazx4/0uZPsS8CV3byCcAH8/Gv6q6H9TtI1/D7yPcBZ+GuFk+oLRZmqh+8T/RrHMIxxT/jaqCcpYTkikmoj22xzDPkE4OT6VUCN3OuEEMWMOYT86ipDgZMdx5kG215mjfIRc63S2mc04WFkPtbhPR8MztcFfBa4gJKIT9SYL3WvWmNlfTGC6W4HFZnacmZUTTpx/llXmL6N5P2Bmb40NXw2sNbPzzSwVNQP2E/a7Mecd/f63MPo+eQbhRPXTUVPgo1nLhpAzxF+flDX+OxaaVX9uZrl+7yDkFK2ESozMdlgGNJvZejPbYmZfMbPqUabP9lKg3UIXoZ1m9r9mtjAaNz/6O8nMNkfNgZ+2WDeinMaR4Z1AyIC3EA5eK4HZo5R9M/BgVgb6jtj7HwJfi73/a+C/o9eLCDtn/GzgC8AN2Rk+Iau+JWvZdxA7688at5HcZ+5/IKrBYf8aq2sIZ8iLDzavWNzH5BgWr7H6fGz8UkJNVIoxaqyyP3ds/F08XxvyK+AvY+NeQKjhSsfiiNfi3AdcNMp6ugn4Ruz964EnJpKpT+SP3GcPw1n7wJLoM9g45ncqsDtrPX0y9v4vgZ9Fr68iOtOK3tdG22SsGquc6yZ7e+fYRpcCT8XGvTAqPzs2rA04NbaseGx10XpZALyN2FleNP7rwD/Epv3WGOtoQTSv+tiwfwJuisWa88w7Gv8tQnX//NHKxMruBk6J7ce/iI17E6HGJFOzVB+tk6ZxfGf2rW/CiU8/UB0rezHw64nGW+z9mdDEdGtW+e8AV+fhu3A34SRgZtbwXPvqncD7Y+/PyS4TG3cGsClr2MeAb8a2891Z43MNexp4fez96whN0BCOiQNAVQG20dNENYLR+/Losy7KUfaG+D4YDbuXqAaJ0Mz1tYN9b0bZL5YSkpQUofZ6G3Bxjmlz1VhVEBJnJ/wmPwMcHRv/IsIJXJpwnOoEXhEbfxnhuzcE9ABvGM+8CccOj28XQqVJZrt9PBp/dTSfV0fLOSEa/21C02o94SToaaA/Nq9XANWE5sKPEWorm3Ksk18RfUei9y3RclcDcwkno/cC/zjObfEkoSXhJUAV4QTu3mjcy6N5/4RwUrAoKv++sfazg3Zed/e17n6pu88nZJcthGpbzGyWmd1qoaNbR7TiZmbNYkfsdW+O93X7F2dz7PWz0fKyHQVcGD9DIdTKzD3Y58kyj9Acku2fCTUSPzezDeM8W908gfHPEr7Q2etqMlqi+cXnnfnByYi3K/dw4DqPm0jZQugitP1nNABdHu3lcRY6Sn7dzJ6N9r+7gaasfkWjfZ4WYtvEw9lo20FiO5R1k73f4+5jfRfisXUR9tMWwr5/Rta+/w7CGf4B0+bQArS7e7zj57OE78J4fISQFNwXnWm/JzPCzD4cdezcG8XVyP77ePbn3eXPX+DRG/3PuQ4Y/TtzVDR8W2x9fJ1QmzdmvEUy1v6cPS4zvnMc0x7MZYRWgifM7H4ze+MYZff7LrD/8STbUUBL1v73cfY/3uTa/7KH5TpuxY/1re7eN0Yck5VrncLz63ysspnynWbWQmht+cRkgnD3x919q7sPu/vvCMnMqDWFWf6BkAQsICQCnwbuNLOaaN5/dPc2dx9y99sJyfr/AYhagL5ASF4zyc837PmLJsaad1dsHRB7nVl3vYST+s+6+4C7/wb4NSFRh7C+eoGnCBUXmZrzzDq519173b3H3f+JkOzs16JkZguimL8VG5w5dvy7u29z913AFwlJ5Xj0Aj9y9/ujfe7TwMvNrDE27y+4+x5330g4vow57wndbsHdnyCcEWeq7/6JkM2d7KHK+Z3sX9U3GQtirxcS2t+zbSbUWDXF/mrd/fPjXYiFKxvnkaOpxN073f3D7n4M4cz6Q2Z2dmb0KLM82MEu+3MNEtqcuwkZeiauFKEJcrzz3Uo42MXnPcT+P2IFYftfpZH99/FJznYNoWkg45RoWC4fJtTQnRHtf5lmjvHsg9uIbZPowJGrOWA8Mh29a2LD5uQqOAHx2OoIzSJbCfv+b7L2/Tp3jzcljLXPbAWmm1l9bNhCQt+Jg3L37e7+PndvIXSk/g8zW2zhCpyPAn9G6DfZROjXdCjHg9G+M3GbCTVWM2Pro8HdTxwr3lwLK8H+vAY42Wy/K/1Ozho/3u/Cftz9KXe/mJBgXgvcFjUj59o39vsuENb1aDYDz2Ttf/XuHv+hybWM7GG5jlvxY/2Yxz0ze+VBtleuLh6Qe53ucPdcJ1X7lY3W37HR8NMJJ/KPm9l2QmJ0uoUr5SZ6wQg8X4s5HqcQuodsiZKnmwhN3UvHMe9TCbWHq919xN3vJ/QXzXS5GXXe7r6bsK+Mtk8+whjcvd3d3+Huc6LvZxmhBWXUSThwnbyb0O9tX8f0KK4tTK45FkLc8Wkzr43Qh3VgovM+2FWBx0dnofOj9wsI1ex/iIrUE7LYPRb6Pf39RBY+ik9FNREnEvrG5LoK49uE9unXRe3EVWZ2VibOg3ymhujs7VZCE9ujOcq8MfqxMEJnvOHoD0LCckz2NOPwTjNbGv2AXwPcFp2tPwlUmdkbojbtTxI6dmbsABaN0ab7XeCDZnZ09AOc6ZM1NIkYJ8T3v+ok++9zo01n4ZLdTN+bimj7Zb5A3yIksvOis8IPE5L5XOoJZxR7zGw64WxrvG4D3mihr0YFYZtM6r5u7t5KSEzeGe2P7yEcgA/F62OxfQZY5e6bCR30jzOzd5lZefT3Ehu731w81s2Ejp7/FK33kwm1G98Ze8rAzC6Mfc92Ew44w4RtMUTo+5A2s6s48Gx/okb7zsQ/zzZCH6p/jb7bZWZ2rJm9+iDxHqAE+/NdUSwfiOZxRTT8znFMm7k8/dJRYnqnmTW7+wjhzJ9oWa2EC3Dix7DvRzHMt9CPZqwa+vuADjP7qJlVR/v7STbxW/B8F/ikmTVbuCrrKsJxfVzc/bcH2V6/HWXSbwGXRfvVNMLx9qZRyv6I0LfmrdH2vYrQJ+4JQl/hRYRE5dRo3IOE5vzMFXij7hdmttzMpllwOqE2538yC7Zwi4Aqwo97eTRt5vh0P6HFZna0v7+LUGu7Ppr2AjOri8adQ6jwWBmb9pUW1VCZ2WmEWqFHxjPvaP19Mor9eEL/vMz6u5vQB/ljZpY2s1cQasbuiJZ1rJnNiPaZ8wh95z4bjVtoZq/IfG4z+3ueb9KLe/co2+ubwF9baEWbBvwt4ViZWZ9jfUe/CbzFwq1PyglN9PdENVQ9hBzkI2ZWHx1L3hefd04+RjshoUbn+4Qfje7o/9eJev0TOq09QEiuHiLq9B2bfiP790f6Nvu3jb4X+KXv3/afuSpwO/CRWNmr2f+qwDMIV/u0Ew4WPwEWjvI5NhJ+gDsJZ9G/J1z5koqVuYnn+1h9MJqmm5AJfypWbjlh59lD6AidiTveZ2G/Yex/hVMHofNn/Oq0SwlnAjujee5bb4RalHsIPwp/jM0vflXgVYQzydZoHWdfaZmz70+O9bRvHUTvzyKr/1c+/qLP51l/i6JxRqiqbo/+vsAofUoITQd3Efa/Jwk1Etnr/b2x8pcS6wfB81dLjveqwFHXDXAeoT/CHuBfCfvme0dZ7mLCxRDZbf9nxpaVuSqwi3DAiveheAFhf2+NYr+T/ftn5bwiKDb9fMKBoZ3Qz+H9o62jHNN+gXAc6IqmvTwaniL0Sekg7MsfYYy+goQz5I2x92li/QEZ4ztD7qsCvxatw72EH7iLxoo3KfszocP4A4Tj0x+B02LjRp2W0IzTSawPVlZM3yYcT7oINQpvjo27Jtp39hA67qYJV6y2Efbh8VwV+F3CMXo34UR7rD6huYZl+rJsi/6+TNR3hwIdd2LL/hDhhLWD8KNaGRu3hv37Bb8GeCLaPneRoy/WaN+bg+wX343Wd1c0/w9kTXtXjmnPiq27r0brrSPab+L9xn5L+B50EDqXX5Q17ysIiVIn4SrQ+NX3B5t3JXAjz19t+qGseZ9I+H3tBh4H3hIb92eE3/YeQr7wuqzpMncPaCP0o1qWNe+XRePrc6z/cuA/CPv09vj+dLBtEY3/C8JxYjfhWLMgNq6BUBHTSfidvYqD9HPMfElLzswWEb7U5V6E2hYRSS4zu4vwY/yNUseSRBauevsrD819IpIgupmliMgU4+73kPtWGiJSYlPmWYEiIiIiSZeYpkARERGRqU41ViIiIiJ5oj5Wsp+ZM2f6okWLSh2GiMiU8sADD+xy93E/Vk0OX0qspgALTw//EuGS9m941o1QzayScH+RFxMuVX2bu280s3ew/73FTgZe5O4PjbasRYsWsXr16nx/BBGRw5qZjXXHejmCqCkw4ez5B32eR7iz7sUWHiAcdxnhGXmLCfejuRbA3b/j7qe6+6mEhw1vHCupEhERkUOjxCr5TgfWu/sGdx8g3KhseVaZ5cDN0evbgLNjd5XNuJhwUzoREREpECVWyTeP/R9guoUDH5i7r0x0c9W9HPjcu7ehxEpERKSglFglX64Hc2bfI2PMMmZ2BtDj7o/lXIDZ5Wa22sxWt7a2Tj5SERGRI5wSq+Tbwv5Pnp/P/k+B36+MmaUJz05rj42/iDFqq9z9endf5u7Lmpt1UYuIiMhkKbFKvvuBJWZ2tJlVEJKklVllVhIeKAxwAXCnZ57iGp6IfiGhb5aIiIgUkG63kHDuPmRmVwB3EG63cKO7rzGza4DV7r4SuAG4xczWE2qqLorN4lWEJ8VvKHbsIiIiRxo90kb2s2zZMtd9rEREJsbMHnD3ZaWOQ0pPTYEiIiIieaKmQJkyVqzadMCwt5+xsASRiIiI5KYaKxEREZE8UWIlIiIikidKrERERETyRImViIiISJ4osRIRERHJEyVWIiIiInmixEpEREQkT5RYiYiIiOSJEisRERGRPFFiJSIiIpInSqxERERE8kSJlYiIiEieKLESERERyRMlViIiIiJ5osRKREREJE+UWImIiIjkiRIrERERkTxRYiUiIiKSJ0qsRERERPJEiZWIiIhIniixmgLM7FwzW2dm683syhzjK83se9H4VWa2KDbuZDP7vZmtMbNHzayqmLGLiIgcSZRYJZyZpYCvAucBS4GLzWxpVrHLgN3uvhi4Drg2mjYNfBt4v7ufCJwFDBYpdBERkSOOEqvkOx1Y7+4b3H0AuBVYnlVmOXBz9Po24GwzM+Ac4BF3fxjA3dvcfbhIcRfc1j29PLJlT6nDEBER2UeJVfLNAzbH3m+JhuUs4+5DwF5gBnAc4GZ2h5n90cw+kmsBZna5ma02s9Wtra15/wCFsLOzj+t/u4E//+b99A0eNrmiiIhMcUqsks9yDPNxlkkDZwLviP6/xczOPqCg+/XuvszdlzU3Nx9qvAXXPzTMilWbcHfaugdY+fDWUockIiICKLGaCrYAC2Lv5wPZmcS+MlG/qkagPRr+G3ff5e49wO3AiwoecQG5Oz968DlaO/t510sX8YLZ9dx4zzO4Z+eaIiIixafEKvnuB5aY2dFmVgFcBKzMKrMSuCR6fQFwp4dM4w7gZDOriRKuVwOPFynugmjrGuCRLXs56wWzWDyrjvecuYgntnfyhw3tpQ5NREREiVXSRX2mriAkSWuB77v7GjO7xszOj4rdAMwws/XAh4Aro2l3A18kJGcPAX90958U+zPk07aOPgCWzm0AYPmp85heW8GN9z5TyrBERESA0AdHEs7dbyc048WHXRV73QdcOMq03ybccuGwsLOjDwOa6ysBqCpP8Y4zFvKVX69n655eWpqqSxugiIgc0VRjJVPKjo4+ptVWUJF+ftd9w8lzcYffP91WwshERESUWMkUs6Ozn9lRbVXGcbPqaahKc/9G9bMSEZHSUmIlU8bQ8AhtXf3Mbtj/qTxlZcayRdOVWImISMkpsZIpY1fXACMOsxoOfNzhSxZN5+nWbtq6+ksQmYiISKDESqaMHZ3hisDZDZUHjDv96GkA3L9xd1FjEhERiVNiJVPGzo4+ygya6w5MrE6a10hFukzNgSIiUlJKrGTK2NHRz4zaStKpA3fbynSKUxc0KbESEZGSUmIlU8aOjj5m5WgGzDh90XTWbO2gu3+oiFGJiIg8T4mVTAl9g8O0dw8ccEVg3LJF0xgecR7ctKeIkYmIiDxPd16XKWH9zi4cDkisVqzatO913+AwBtx47zOcuWRmcQMUERFBNVYyRTy1sxOAWfWjNwVWladorq/kud29xQpLRERkP0qsZEpYv7OLMoOZOa4IjJvXVM3WvUqsRESkNJRYyZSwfW8/9VXlpMpszHJzm6rp7BuitVM3ChURkeJTYiVTws7OPuqrDt4lsKUx9MFas3VvoUMSERE5gBIrmRJ2doQaq4OZ21gNwJqtHYUOSURE5ABKrGRK2NHZR8M4aqyqK1JMr63gcSVWIiJSAkqsJPH6h4bZ0zM4rhorgLmNVTympkARESkBJVaSeDs7Qkf08dRYAbQ0VfNsWw8dfYOFDEtEROQASqwk8XZ29gGMu8aqJepntVbNgSIiUmRKrCTx9tVYVY+3xipzZaASKxERKS4lVpJ4OzomVmNVX1VOc32lEisRESk6JVZTgJmda2brzGy9mV2ZY3ylmX0vGr/KzBZFwxeZWa+ZPRT9/WexY8+HnZ39pMuMmorUuKc5saVB97ISEZGi00OYE87MUsBXgdcCW4D7zWyluz8eK3YZsNvdF5vZRcC1wNuicU+7+6lFDTrPdnT001xfSZmNfdf1uBNbGrjnqV30Dw1TmR5/QiYiInIoVGOVfKcD6919g7sPALcCy7PKLAdujl7fBpxtNoEsJOF2dvYxq6FqQtMcN7ueoRHnmV3dBYpKRETkQEqskm8esDn2fks0LGcZdx8C9gIzonFHm9mDZvYbM3tloYMthJ0d/cyuH/vhy9leMKcegCd3dBUiJBERkZyUWCVfrponH2eZbcBCdz8N+BCwwswaDliA2eVmttrMVre2th5ywPm2o7OPWQ0TS6yOmVlHusx4cntngaISERE5kBKr5NsCLIi9nw9sHa2MmaWBRqDd3fvdvQ3A3R8AngaOy16Au1/v7svcfVlzc3MBPsLk9Q2Gu67Prp9YU2BFuoyjZ9aybocSKxERKR4lVsl3P7DEzI42swrgImBlVpmVwCXR6wuAO93dzaw56vyOmR0DLAE2FCnuvGjtDPewmj3BPlYQ+lk9qcRKRESKSFcFJpy7D5nZFcAdQAq40d3XmNk1wGp3XwncANxiZuuBdkLyBfAq4BozGwKGgfe7e3vxP8XkZe663txQybY9feOebsWqTfQNDbOprYeb7t1IRbqMt5+xsFBhioiIAEqspgR3vx24PWvYVbHXfcCFOab7IfDDggdYQDuiu67Prq+aUGKVmcYJtV7zplUXIDoREZH9qSlQEm1ndNf1iXZeh+ebDzN3bhcRESk0JVaSaDuiu65Pr6mY8LTTaytIl5kSKxERKRolVpJoOzv6mVVfSVnZxO93miozmusr2dGpxEpERIpDiZUk2s7OPponcUVgxuyGqn39tERERApNiZUk2o6OvgnfdT1udn0le3sH6RsczmNUIiIiuSmxkkRr7QwPYJ4sdWAXEZFiUmIliTU84uzpHWRG3aEnVjvVHCgiIkWgxEoSa0/PAO4wvaZ80vNorCmnIlXGdnVgFxGRIlBiJYm1u2cAgGm1E7/VQkaZGbMaKtUUKCIiRaHEShKrvXsQCPejOhS6MlBERIpFiZUkVnt3VGM1iZuDxs2ur6S7f4i2LiVXIiJSWEqsJLEyTYEz6g69xgrgyR1dhxyTiIjIWPQQZkmcFas2AXDXup0A/HzNDspTkz8HeD6x6uRlx8449ABFRERGoRorSazu/iEqUmWHlFQB1FelqSovY92OzjxFJiIikpsSK0msnoFhaipThzwfM2N2QxVPKbESEZECU2IlidU9MERtRX5aq2c3VLFueyfunpf5iYiI5KLEShKrZ2CYmopDr7GCkFh19A3ptgsiIlJQSqwksbr7h6itzFONVfS8QfWzEhGRQlJiJYnVMzBMbZ5qrGZlrgzcrsRKREQKR4mVJNLQ8Aj9QyPU5KnGqq4yzcy6Sp5UjZWIiBSQEitJpO6BYYC89bECeMGcOjUFiohIQSmxkkTqGRgCyNtVgQDHz2lg3fZOhoZH8jZPERGROCVWU4CZnWtm68xsvZldmWN8pZl9Lxq/yswWZY1faGZdZvZ3xYr5UHX3RzVWebiPVcYJcxvoHxphY1t33uYpIiISp8Qq4cwsBXwVOA9YClxsZkuzil0G7Hb3xcB1wLVZ468DflroWPOpEDVWJ8ytB+DxbWoOFBGRwlBilXynA+vdfYO7DwC3AsuzyiwHbo5e3wacbWYGYGZvBjYAa4oUb14Uoo/V4ll1pMuMtds68jZPERFYlxTEAAAd7ElEQVSROCVWyTcP2Bx7vyUalrOMuw8Be4EZZlYLfBT49FgLMLPLzWy1ma1ubW3NW+CHoqc/1FjV5LHGqjKdYvGsOiVWIiJSMEqsks9yDMt+LstoZT4NXOfuXWMtwN2vd/dl7r6subl5kmHmV/fAMNXlKVJluT7a5J0wt0GJlYiIFIwSq+TbAiyIvZ8PbB2tjJmlgUagHTgD+IKZbQT+Fvi4mV1R6IDzobt/KK/NgBknzK1nR0c/7d0DeZ+3iIiIEqvkux9YYmZHm1kFcBGwMqvMSuCS6PUFwJ0evNLdF7n7IuDfgM+5+1eKFfih6BnI3+Ns4k6Y2wCgWisRESkIJVYJF/WZugK4A1gLfN/d15jZNWZ2flTsBkKfqvXAh4ADbskw1eTzAcxxx89RYiUiIoWT/yoByTt3vx24PWvYVbHXfcCFB5nH1QUJrkC6+4doaazO+3yb6yuZWVfJ40qsRESkAFRjJYnj7qHGKo83B407YW49a3UvKxERKQAlVpI4A8MjDI14Xm8OGrd0bgPrd3YyqEfbiIhInimxksTpiR5nU1ugGqulLQ0MDjvrd455FwoREZEJU2IlidM9kP+bg8ad2NIIwGPP7S3I/EVE5MilxEoSJ/MA5toCXBUIcPTMWmoqUqzZqg7sIiKSX0qsJHEyD2CuKcB9rABSZcbSuQ08qhorERHJMyVWkjiZBzAXqvM6wEnzGnl8awfDI9lPBxIREZk83cdKEqenf4gyg8ry/Ob9K1Zt2ve6q2+I3sFhvvyrp/jga4/L63JEROTIpRorSZzugWFqKtKUWX4fwBzXMi3cfHTrnt6CLUNERI48SqwkcXoGCvMA5rjmukrSZabESkRE8kqJlSROd39hHsAclyoz5jZW8dyevoIuR0REjixKrCRxugv0AOZsLU3VbNvby4g6sIuISJ4osZLE6ekfKugVgRnzmqrpHxphY1t3wZclIiJHBiVWkigjI4V9AHNcS1PowP6YbhQqIiJ5osRKEqWjbxCnsPewypjVUEmqzFijG4WKiEieKLGSRGnvHgAK9wDmuHRZGXMaqnQHdhERyRslVpIou3tCYlWoBzBna2mq5rHn9uKuDuwiInLolFhJorR1RTVWRUusqujoG2LLbt3PSkREDp0SK0mUfTVWRWgKhHBlIKDmQBERyQslVpIo7d2DQPFqrGY3VJEuMx5TYiUiInmgxEoSZXfPAOkyozxVuOcExpWnylgyu141ViIikhdKrKYAMzvXzNaZ2XozuzLH+Eoz+140fpWZLYqGn25mD0V/D5vZW4od+0S1dw9QW5nGCvgA5mwvnNfAmq0d6sAuIiKHTIlVwplZCvgqcB6wFLjYzJZmFbsM2O3ui4HrgGuj4Y8By9z9VOBc4OtmVpw2tkna3T1AbREeZxN30rxG2rsH2LZXzw0UEZFDo8Qq+U4H1rv7BncfAG4FlmeVWQ7cHL2+DTjbzMzde9x9KBpeBSS+Sqa9Z4CaAj+AOduJLY2AOrCLiMihU2KVfPOAzbH3W6JhOctEidReYAaAmZ1hZmuAR4H3xxKtfczscjNbbWarW1tbC/ARxq+9e6AoD2COWzq3gTJDd2AXEZFDpsQq+XJ1NsqueRq1jLuvcvcTgZcAHzOzqgMKul/v7svcfVlzc/MhB3wo2rsHinZFYEZ1RYrFs+r0zEARETlkie5vI0CooVoQez8f2DpKmS1RH6pGoD1ewN3Xmlk3cBKwunDhTt7g8AidfUNFu4dVxopVm6itSHP/M+2sWLVp3/C3n7GwqHGIiMjUpxqr5LsfWGJmR5tZBXARsDKrzErgkuj1BcCd7u7RNGkAMzsKeAGwsThhT1zm5qDFrrECmNtUTWf/EF39B7SUioiIjJtqrBLO3YfM7ArgDiAF3Ojua8zsGmC1u68EbgBuMbP1hJqqi6LJzwSuNLNBYAT4S3ffVfxPMT67MzcHLXLndYA5DaGFdPvePhbPqiv68kVE5PCgxGoKcPfbgduzhl0Ve90HXJhjuluAWwoeYJ60d2cewFzcpkCAOY2ZxKpXiZWIiEyamgIlMUrZFFhXmaa+Ms32Dt3LSkREJk+JlSRGW3dxH8CcbU5jFdt1k1ARETkESqwkMXaXsCkQQmK1o7Of4ZHE30dVREQSSomVJEZ79wD1lWnSZaXZLec0VDE84uzq6i/J8kVEZOpTYiWJsbtngGm1FSVb/vMd2NUcKCIik6PEShKjvbu0iVVzfSVlhjqwi4jIpCmxksRo6xpgZgkTq3RZGbPq1YFdREQmT4mVJEZbdz8z6kqXWEF0ZaBqrEREZJKUWEkiuDvt3QNMr60saRxzGqrY2ztIz4AebSMiIhOnxEoSoaNviMFhZ2YCaqxA/axERGRylFhJImQeZzO9hH2sQFcGiojIoVFiJYnQFt07akZdaZsC6yvT1FSklFiJiMikKLGSRNjVFWqsZpS4xsrMmKsO7CIiMklKrCQRMk2Bpb4qEEIH9h0dfXq0jYiITJgSK0mETFNgqftYAcxprGZw2Hm2rbvUoYiIyBSjxEoSoS16TmBlujQPYI7LdGB/YntniSMREZGpRomVJEJb90AimgEBZtVXYsAT2zpKHYqIiEwxSqwkEdq7+0t+RWBGeaqMmfWVrFWNlYiITJASK0mEtq6BRPSvypjbWMVa1ViJiMgEKbGSRNjVNVDyu67HzWmoYsvuXjr6BksdioiITCFKrKTkRkac3T3JqrHKdGB/Us2BIiIyAUqspOT29g4yPOLMKPEDmOPmNITESv2sRERkIpRYTQFmdq6ZrTOz9WZ2ZY7xlWb2vWj8KjNbFA1/rZk9YGaPRv//tNixj0dbgm4OmtFYXU5DVVpXBoqIyIQosUo4M0sBXwXOA5YCF5vZ0qxilwG73X0xcB1wbTR8F/Amd38hcAlwS3Ginph9zwlMUI2VmbG0pYHHtiqxEhGR8VNilXynA+vdfYO7DwC3AsuzyiwHbo5e3wacbWbm7g+6+9Zo+BqgysySk71EkvQ4m7hTFjSxdmsH/UPDpQ5FRESmCCVWyTcP2Bx7vyUalrOMuw8Be4EZWWXeCjzo7v3ZCzCzy81stZmtbm1tzVvg47WrOxkPYM522oJpDAyPsEa1ViIiMk5KrJLPcgzLfjrwmGXM7ERC8+D/zbUAd7/e3Ze5+7Lm5uZJBzpZ7V0hsZqWtMRqYRMAD27aU+JIRERkqlBilXxbgAWx9/OBraOVMbM00Ai0R+/nAz8C3u3uTxc82klo6+6nsbqc8lSydsfZDVXMa6rmwU27Sx2KiIhMEcn6JZNc7geWmNnRZlYBXASszCqzktA5HeAC4E53dzNrAn4CfMzd7y1axBPU1pWc5wRmO3Vhk2qsRERk3JRYJVzUZ+oK4A5gLfB9d19jZteY2flRsRuAGWa2HvgQkLklwxXAYuBTZvZQ9DeryB/hoNq6+5mZoCsC405b0MRze3rZ2dFX6lBERGQKSJc6ADk4d78duD1r2FWx133AhTmm+yzw2YIHeIjaugY4trmu1GHkdNrCaQA8uHkPrztxTomjERGRpFONlZRce3dymwJPbGmgPGVqDhQRkXFRYiUlNTzitPcMJO5WCxlV5SmWtjSqA7uIiIyLmgKlZFas2kRX/xDusGFXNytWbSp1SDmdtqCJ792/maHhEdIJu3JRRESSRb8SUlIdvYMANFSVlziS0b34qGn0Dg7z8Ja9pQ5FREQSTomVlFRHX5RYVSc3sXrVkmZSZcav1u4odSgiIpJwSqykpDp7hwBoqEpuq3RjTTmnL5rOL5VYiYjIQSixkpLa2zeIAfUJbgoEeM3S2Ty5o4tn27pLHYqIiCSYEispqY7eQeoq06TKcj3uMDlec0K4r+ov1+4scSQiIpJkSqykpDr6BhPdvyrjqBm1HDe7jl8+ruZAEREZXXI7tsgRoaN3iKaaZCZW2bd/mNtYzT3rd7G3Z5DGhMYsIiKlpRorKampUmMFcMLcBoZHnF+vU3OgiIjkpsRKSmZweISegeFE38Mqbv60auY2VnHbA1tKHYqIiCSUEispmc6+cKuFxuqp0SJdZsa7XnYU96zfxbrtnaUOR0REEkiJlZTM3ilw1/VsF79kIVXlZXzz3mdKHYqIiCSQEispmalw1/Vs02oreMtp8/mvB5+jrau/1OGIiEjCKLGSkpkKzwnM5T2vWMTA0AjfvS+ZD40WEZHSUWIlJdPRO0h5yqgqn1q74ZLZ9bxyyUxu+t2zdEa1biIiIqDESkqoo2+IhqpyzJJ91/W4Fas2sWLVJk5qaaStq5/Lv/XAAfe7EhGRI5cSKymZjt6pcw+rbAum13DGMdP5w4Y2tuzuKXU4IiKSEEqspGQ6+gZpnKKJFcA5S+dQV5Xmvx98jqHhkVKHIyIiCTA1biAkhx13j5oCp+4uWFWe4o0nt/Dd+zZxyY338YaTW/Yb//YzFpYoMhERKRXVWE0BZnauma0zs/VmdmWO8ZVm9r1o/CozWxQNn2FmvzazLjP7SrHjHkt79wDDIz5lmwIzTmpp4GXHzuDep9u456nWUocjIiIlpsQq4cwsBXwVOA9YClxsZkuzil0G7Hb3xcB1wLXR8D7gU8DfFSnccdve0QdMvVstZDMz3vDCuZzU0sDtj23n4c17Sh2SiIiUkBKr5DsdWO/uG9x9ALgVWJ5VZjlwc/T6NuBsMzN373b3ewgJVqLsyCRWU7zGCsKjbi5ctoBFM2r5wQObWbuto9QhiYhIiSixSr55wObY+y3RsJxl3H0I2AvMGO8CzOxyM1ttZqtbW4vTnLV9b7hr+VTuYxVXnirj3S87ipamalbct4mnduhZgiIiRyIlVsmX6yZPPokyo3L36919mbsva25unlBwk7V9by8G1E/xpsC4qvIUl758EbPqK/n2qmf1oGYRkSOQEqvk2wIsiL2fD2wdrYyZpYFGoL0o0U3S07u6mVZbQaps6twcdDxqKtJc+vJFVKRT/M2tD9I/NFzqkEREpIiUWCXf/cASMzvazCqAi4CVWWVWApdEry8A7nT3cddYlcKG1m6a6ypLHUZB1FeV89bT5vHE9k7+9edPljocEREpIiVWCRf1mboCuANYC3zf3deY2TVmdn5U7AZghpmtBz4E7Lslg5ltBL4IXGpmW3JcUVh0IyPOM7u6aK4/PBMrgOPnNvDOly7k//12A797elepwxERkSI5PHoOH+bc/Xbg9qxhV8Ve9wEXjjLtooIGNwlb9/bSNzhy2NZYZXzi9Uu5+8ldfObHa/nJX59J2WHW7CkiIgdSjZUU3dOt3QDMPIxrrACqK1J86LXHsXZbBz9+dFupwxERkSJQYiVF9/TOLoDDuikw4/xTWjh+Tj1f/Pk6BvU8QRGRw54SKym6Dbu6aKwup7YiVepQCq6szPi7c17AxrYefrB6S6nDERGRAlMfKym6p3d2c0xzLWaHd5+jFas2AeGB0wun1/D5n65lcHiES16+qLSBiYhIwajGSopuw64ujm2uK3UYRWNmnHPibDr6hvjDhrZShyMiIgWkxEqKqrNvkB0d/RzTXFvqUIrqmJl1LJlVx13rWunoGyx1OCIiUiBKrKSoNkRXBB5JNVYZ55w4h97BYb5x94ZShyIiIgWixEqKasOucEXgkZhYzWuq5qR5jXzjnmfY1dVf6nBERKQAlFhJUT29s5tUmbFwek2pQymJc06YzeDwCJ/58eOlDkVERApAiZUU1YZdXRw1vYaK9JG5682sr+SKP1nC/zy0lV88vqPU4YiISJ4dmb9uUjLhVgtHXjNg3F+cdSzHz6nnEz96lL296sguInI4UWIlRbOnZ4CndnaytKWh1KGUVEW6jH++4BTaugf46G2P6I7sIiKHESVWUjT3rN/FiMOrj2sudSgl98L5jXzsvOP52ZrtXLHij/QPDZc6JBERyQMlVlI0v1nXSmN1OafMbyx1KCW1YtUmVqzaRE1FmjeePJc71uzgjV++h2fbuksdmoiIHCI90kaKwt25+6lWzlwyk3RK+XzGy4+dSUWqjJUPb+VP/uUu3nByC2944VxOnt/I3Maqw/6xPyIihxslVlIU63Z0sqOjn1cvUTNgtmWLpnPcnHp2dw/w7T88y/8+vBWAmXWVzKyrYF5TNfOnVTNvWg11leEr+/YzFpYyZBERGYUSKymK36xrBeBV6l+VU0NVOe9/9bF88LXH8fi2Dh7dspeHt+zhnqd2sW57Jx6Vm9tYxbJF03nDyXNprC4vacwiInIgJVZSFL95spXj59Qzp7Gq1KEk1opVm/a9Lk+Vseyo6Sw7ajr9g8Ns3dvH5vYeHtmyh/99eCu/fHwH7zhjIZe/6hhmNWidiogkhRIrKbju/iHu39jOn7/i6FKHMiVVlqc4emYtR8+s5VXHNfPc7l627u3lxnuf4Vt/eJaLXrKA97/6WFqaqksdqojIEU+9iKXgVj68lcFh120W8mTetGque9up3Pnhs3jLqfNYsWoTr/7nX3PlDx9hU1tPqcMTETmiqcZKCmpHRx+fu30tpy+azsuOmVHqcA4bmWbDUxY0cdSMGu5+qpX/evA5fvDAFs4/pYULXzyf04+eriswRUSKTImVFIy788n/foyBoRE+/9YXUlamWwcUQlNNBeefMo+zjpvFPet38ZNHtvGjB5+jpiLF4ll1nH9KCyfPb+KkeQ3UVIz9lc8kbMMjzs7OPrbt7aNvcJgXzmsknSpjbmMVcxurOGZmHY01xe08H++DFqcrJEUkSZRYTQFmdi7wJSAFfMPdP581vhL4FvBioA14m7tvjMZ9DLgMGAY+4O53FCNmd2fFfZv4xeM7uPK844/45wMWQ0N1Oa9/4Vxec8JsntzRyZqte9nY1sNnf7IWgDKDJbPqOWFuPcfNqWfh9Boaq8upLk/R2tnP1r19/PTRbWzb28f2jj6GR3zfvH/8yLYDljezroJjm+s4dlYdR8+oZVZDJc31lcyqr6S5roqG6vQh3Yerb3CYx57by0Ob97BueycPbd5DV/8Q6TKjpiJNTUWKmooUbV39NNVWMK2mnKp0ilTKqEyV0VBdTlNNOU01FdRWpHRPMBEpCiVWCWdmKeCrwGuBLcD9ZrbS3R+PFbsM2O3ui83sIuBa4G1mthS4CDgRaAF+aWbHuXtBnp/SMzDE1j29PLG9k+vv3sAjW/by4qOm8d4z1Wm9mCrSZZw0r5GT5oU73Hf2DbJldy9bdvfy3J4efr2ulf9+aGvOaavLU8xrqublx86gpamauY1V1FWkSafKGBweoaNvkD09g+zq6qehqpz1rV385JFtOR8mXWZQW5GmpjK1739NRZq6yjS1lWnqouF1Vel99+fq7BtiV1c/j2zZy9ptHQxFyV1zfSWV6TIaq8sZHB6hs2+QHR199AwMc+/TbQddJ+kyo7G6nMaacpqqy2msDglXYyb5qi5nWm0FTTUhQZtWU0F1RQp3GBoZYXf3ILt7BmjrHqC9q5/2nkHau/vZ3TPIwNAIQ8MjDI04g8MjuEN1RfSZK1LUVqapr0ozo7aCmfWV++5PVldZTjpllJeVkU4Z6ZQxMDRCz8AwnX2DtHYO0NbdT1vXALu6+tnVNUBbVz+7uvqjOAZIpYyGqnKm1ZQzu6GKOY1V4X/sdXNdJRXpMspTRqrMCpZgujt9g2HbdPYP0dk3REfvIG3d/ezqHKCzf4jegSGGRwjbojq9bxs0VJdTV/n8vlBXmSY1Rg132AeGwrL6hujoG2R3d9gv9/QM0js4TP/QMLUV6QO2e11VmvrK8n3LqkiruVzyS4lV8p0OrHf3DQBmdiuwHIgnVsuBq6PXtwFfsXD0XA7c6u79wDNmtj6a3+/zHeSXf/UUX/zFk/veL5hezRfeejJvedE89fMpsfqqck6YW84Jc59/+HXf4DAvXzyDzr4hegaGmVlXwdzGan766LZRf3gr0mXUVqaZ2/j81YenLGh6/ge1f5CuvvCD2tk/RM/AEINDI/QPjTAwPEL/4Ag7+/rZMtRDfzR8eMTpHdw/z2+oSnNiSyPve9UxnLagiVMXNjGrvmrUpsCh4RF6BofpGRhmKEpsBodH6B0cpndgmN5oXOZ1R+8Q2zv69r3vG5z4Q7CNkDzVVKQpTxllZsxqqCRdZhhGW9cAmwd62NU1wMDQCH2Dw/hB5zr28moq09RXpqmtTNFUXc68pmpGonXf3T/EQ5v30LdhmI6+oTHnVZEqoyz6SnosqP3i88y/54fmKuuxgZ5VJpfyVEjsBoYOvs7H6jkwcpDlpMqMmvIU3QND4yqbMsMMPveWF/LWF88/aGwiY1FilXzzgM2x91uAM0Yr4+5DZrYXmBEN/0PWtPOyF2BmlwOXR2+7zGzdBGOcCeyKD3gWuGeCMymwA2JMmKTHB0WM8VHg1slNqvWYH0dkjBf84yFNflSewpApTolV8uU6b8s+BxutzHimxd2vB66feGjRws1Wu/uyyU5fDEmPMenxgWLMF8WYH1MhRjkyqY0m+bYAC2Lv5wPZHWT2lTGzNNAItI9zWhEREckTJVbJdz+wxMyONrMKQmf0lVllVgKXRK8vAO700PlhJXCRmVWa2dHAEuC+IsUtIiJyxFFTYMJFfaauAO4g3G7hRndfY2bXAKvdfSVwA3BL1Dm9nZB8EZX7PqGj+xDwVwW6InDSzYhFlPQYkx4fKMZ8UYz5MRVilCOQ+cEu4xARERGRcVFToIiIiEieKLESERERyRMlVjJpZnauma0zs/VmdmWp4wEwswVm9mszW2tma8zsb6Lh083sF2b2VPR/WgJiTZnZg2b24+j90Wa2Korxe9HFCqWMr8nMbjOzJ6L1+bKkrUcz+2C0nR8zs++aWVWp16OZ3WhmO83ssdiwnOvNgi9H36FHzOxFJYzxn6Nt/YiZ/cjMmmLjPhbFuM7MXleqGGPj/s7M3MxmRu9Lsh5FclFiJZMSe9TOecBS4OLoETqlNgR82N1PAF4K/FUU15XAr9x9CfCr6H2p/Q2wNvb+WuC6KMbdhEcVldKXgJ+5+/HAKYRYE7MezWwe8AFgmbufRLi4I/NIp1Kux5uAc7OGjbbeziNcrbuEcJPer5Uwxl8AJ7n7ycCTwMcAsh6NdS7wH9H3vxQxYmYLCI/4it+Kv1TrUeQASqxksvY9asfdBwg3yl5e4phw923u/sfodSchGZhHiO3mqNjNwJtLE2FgZvOBNwDfiN4b8KeERxJBiWM0swbgVYQrTnH3AXffQ8LWI+HK5uro/m01wDZKvB7d/W7C1blxo6235cC3PPgD0GRmc0sRo7v/3N0zz8P5A+G+d5kYb3X3fnd/Bsg8GqvoMUauAz7C/jc7Lsl6FMlFiZVMVq5H7RzwuJxSMrNFwGnAKmC2u2+DkHwBs0oXGQD/RvhxyDw0bQawJ/bDVur1eQzQCnwzaq78hpnVkqD16O7PAf9CqLnYBuwFHiBZ6zFjtPWW1O/Re4CfRq8TE6OZnQ885+4PZ41KTIwiSqxkssb1uJxSMbM64IfA37p7R6njiTOzNwI73f2B+OAcRUu5PtPAi4CvuftpQDfJaD7dJ+qntBw4GmgBaglNQtkSs1/mkLTtjpl9gtCk/p3MoBzFih6jmdUAnwCuyjU6x7Akb3c5jCmxkslK7ONyzKyckFR9x93/Kxq8I9M0EP3fWar4gFcA55vZRkIT6p8SarCaoiYtKP363AJscfdV0fvbCIlWktbja4Bn3L3V3QeB/wJeTrLWY8Zo6y1R3yMzuwR4I/AOf/4mh0mJ8VhCEv1w9N2ZD/zRzOaQnBhFlFjJpI3nUTtFF/VVugFY6+5fjI2KP/bnEuB/ih1bhrt/zN3nu/siwnq7093fAfya8EgiKH2M24HNZvaCaNDZhDv4J2Y9EpoAX2pmNdF2z8SYmPUYM9p6Wwm8O7qq7aXA3kyTYbGZ2bnAR4Hz3b0nNioRj8Zy90fdfZa7L4q+O1uAF0X7amLWowjurj/9TeoPeD3h6qGngU+UOp4opjMJTQCPAA9Ff68n9GH6FfBU9H96qWON4j0L+HH0+hjCD9Z64AdAZYljOxVYHa3L/wamJW09Ap8GngAeA24BKku9HoHvEvp8DRJ+/C8bbb0RmrC+Gn2HHiVc4ViqGNcT+illvjf/GSv/iSjGdcB5pYoxa/xGYGYp16P+9JfrT4+0EREREckTNQWKiIiI5IkSKxEREZE8UWIlIiIikidKrERERETyRImViIiISJ4osRIRERHJEyVWIiIiInny/wFb5LeHocIwbAAAAABJRU5ErkJggg==\n",
>>>>>>> e2804d706a2299038e1989eb789f78cd9e938c63
      "text/plain": [
       "<Figure size 432x288 with 1 Axes>"
      ]
     },
     "metadata": {
      "needs_background": "light"
     },
     "output_type": "display_data"
    }
   ],
   "source": [
    "central_limit_theorem_plotter(trip_durations,10,1000);"
   ]
  },
  {
   "cell_type": "code",
<<<<<<< HEAD
   "execution_count": 8,
=======
   "execution_count": 18,
>>>>>>> e2804d706a2299038e1989eb789f78cd9e938c63
   "metadata": {
    "scrolled": true,
    "slideshow": {
     "slide_type": "slide"
    }
   },
   "outputs": [
    {
<<<<<<< HEAD
     "name": "stderr",
     "output_type": "stream",
     "text": [
      "/Users/Kulle/anaconda3/envs/learn-env/lib/python3.6/site-packages/scipy/stats/stats.py:1713: FutureWarning: Using a non-tuple sequence for multidimensional indexing is deprecated; use `arr[tuple(seq)]` instead of `arr[seq]`. In the future this will be interpreted as an array index, `arr[np.array(seq)]`, which will result either in an error or a different result.\n",
      "  return np.add.reduce(sorted[indexer] * weights, axis=axis) / sumval\n"
     ]
    },
    {
     "name": "stdout",
     "output_type": "stream",
     "text": [
      "mean = 20.613401\n"
=======
     "name": "stdout",
     "output_type": "stream",
     "text": [
      "mean = 20.361195000000002\n"
>>>>>>> e2804d706a2299038e1989eb789f78cd9e938c63
     ]
    },
    {
     "data": {
<<<<<<< HEAD
      "image/png": "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\n",
=======
      "image/png": "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\n",
>>>>>>> e2804d706a2299038e1989eb789f78cd9e938c63
      "text/plain": [
       "<Figure size 432x288 with 1 Axes>"
      ]
     },
     "metadata": {
      "needs_background": "light"
     },
     "output_type": "display_data"
    }
   ],
   "source": [
    "central_limit_theorem_plotter(trip_durations,1000,10)"
   ]
  },
  {
   "cell_type": "markdown",
   "metadata": {},
   "source": [
    "* What happens as we increase the sample size?\n",
    "* How does the height of the distribution change? Why does it change?"
   ]
  },
  {
   "cell_type": "markdown",
   "metadata": {},
   "source": [
    "#### Should observe the number of samples drives the shape of the curve more than the sample size itself\n"
   ]
  },
  {
   "cell_type": "markdown",
   "metadata": {
    "slideshow": {
     "slide_type": "slide"
    }
   },
   "source": [
    "### Show with exponential"
   ]
  },
  {
   "cell_type": "code",
<<<<<<< HEAD
   "execution_count": 9,
=======
   "execution_count": 12,
>>>>>>> e2804d706a2299038e1989eb789f78cd9e938c63
   "metadata": {},
   "outputs": [],
   "source": [
    "exponential = np.random.exponential(scale=1, size=1000)"
   ]
  },
  {
   "cell_type": "code",
<<<<<<< HEAD
   "execution_count": 10,
=======
   "execution_count": 13,
>>>>>>> e2804d706a2299038e1989eb789f78cd9e938c63
   "metadata": {
    "slideshow": {
     "slide_type": "slide"
    }
   },
   "outputs": [
    {
     "data": {
<<<<<<< HEAD
      "image/png": "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\n",
=======
      "image/png": "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\n",
>>>>>>> e2804d706a2299038e1989eb789f78cd9e938c63
      "text/plain": [
       "<Figure size 432x288 with 1 Axes>"
      ]
     },
     "metadata": {
      "needs_background": "light"
     },
     "output_type": "display_data"
    }
   ],
   "source": [
    "plt.hist(exponential, bins=50)\n",
    "plt.show()"
   ]
  },
  {
   "cell_type": "code",
<<<<<<< HEAD
   "execution_count": 11,
=======
   "execution_count": 14,
>>>>>>> e2804d706a2299038e1989eb789f78cd9e938c63
   "metadata": {
    "slideshow": {
     "slide_type": "slide"
    }
   },
   "outputs": [
    {
<<<<<<< HEAD
     "name": "stderr",
     "output_type": "stream",
     "text": [
      "/Users/Kulle/anaconda3/envs/learn-env/lib/python3.6/site-packages/scipy/stats/stats.py:1713: FutureWarning: Using a non-tuple sequence for multidimensional indexing is deprecated; use `arr[tuple(seq)]` instead of `arr[seq]`. In the future this will be interpreted as an array index, `arr[np.array(seq)]`, which will result either in an error or a different result.\n",
      "  return np.add.reduce(sorted[indexer] * weights, axis=axis) / sumval\n"
     ]
    },
    {
     "name": "stdout",
     "output_type": "stream",
     "text": [
      "mean = 1.0061878589380606\n"
=======
     "name": "stdout",
     "output_type": "stream",
     "text": [
      "mean = 0.9989379664659378\n"
>>>>>>> e2804d706a2299038e1989eb789f78cd9e938c63
     ]
    },
    {
     "data": {
<<<<<<< HEAD
      "image/png": "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\n",
=======
      "image/png": "iVBORw0KGgoAAAANSUhEUgAAAl4AAAEICAYAAACOHvrxAAAABHNCSVQICAgIfAhkiAAAAAlwSFlzAAALEgAACxIB0t1+/AAAADl0RVh0U29mdHdhcmUAbWF0cGxvdGxpYiB2ZXJzaW9uIDMuMC4zLCBodHRwOi8vbWF0cGxvdGxpYi5vcmcvnQurowAAIABJREFUeJzt3Xd8XNWd///XR703Sy6yJMvdYDAGXEILkAappAAB0mDJsqRsdrPspmw2WbLZb9rvkWx6WNIISQxJCCEkS0ggYNNdMNjGvclyVbesZrU5vz/ulRmPZyTZlufOjN7Ph+dhzdw7d94zc8vnnnvuHXPOISIiIiJnXlrQAURERETGCxVeIiIiInGiwktEREQkTlR4iYiIiMSJCi8RERGROFHhJSIiIhInSVN4mdmdZvbLMzj9u8zs82M0rRoz6zSzdP/+cjP78FhM25/en83sQ2M1PfGYWZ2ZvSEBctxjZv8d0Gubmf3MzNrMbFUQGUZiZrVm5swsI+gs41GQ86dIKhix8DKzS83sOTNrN7NWM3vWzBbHI9xY8TeoPWbWYWaH/fdzu5kde//Oududc18a5bSG3Tg75+qdcwXOucExyH5Cwemce7Nz7uenO+0gmNnZZrbG37C3mdnjZnZ22HAzs6+ZWYt/+7qZWZCZx5lLgTcCVc65JUGHSXRmlmVmD/jrBWdmV0QMH3Z+NrOFZvaimXX7/y8ci+eexvsZ10WVX9Q/6X+mW4Zb15tZtpn91MyOmNkhM/uXiOGv96fR7U9zWpRplJlZk5k9E/bYSPPUnWbW7+/cD91mhA2/28y2mlnIzG6OeK6Z2X+b2X5/m77czOaHDb/HzPoipp0eNvx6M9vsb0s3mdk7T2LaI31eeWb2AzNr9p//VNiwEjP7uZk1+rc7I547tI0fyvzXsGF3RbyfXjPriHj+Df776jKznWZ22Si/iz9HTLvPzDZEfs+Rhi28zKwI+BPwXaAMmAp8EegdacIJ6O3OuUJgGvBV4NPAT8b6RUx74SM5AFyLNz+VAw8D94cNvw14J3AesAB4G/APcc6YMsJXmqM0DahzznWdiTwp6hng/cChKMNizs9mlgX8AfglUAr8HPiD//jpPjfhRVtXnuz609/Yj+WRm/uAl4AJwOeAB8ysIsa4dwKz8ZaZK4FPmdnVfq5y4EHg83jrujXAr6NM42vA5iiPDzdPAfza37kfuu0KG7YO+CiwNsrzrgP+DrjMz/U88IuIcb4eMe1B/z1NxZvf/gUoAv4NWGZmE0c57TuJ8Xn57vafd5b//yfDhv0PkAfUAkuAD5jZLRG53x6W+U1DD/qNKsfeD953/Nuh4Wb2Rrzv4RagEHgtEP55xvwu/EaQ8Gk/Fz7tmJxzMW/AIuDwMMNnAk8ALUAz8CugJGx4Hd6Xsx7owit0JgF/BjqAx4FSf9xawOGtbA4AB4E7wqZ1J/DLsPuv8d/kYbwZ7YphctYBb4h4bAkQAs7x798D/Lf/dzlewXkYaAWexitSf+E/pwfoBD4VlvtWoB54KuyxDH96y4GvAKuAdrwVZpk/7ApgX7S8wNVAH9Dvv966sOl92P87DfgPYA/QCNwLFEd8ph/yszUDnxvmc7oH+D7wf/73sxKYOdw8cjo3IAP4GNAd9thzwG1h928FXojx/FL/e2oC2vy/q8KGLwe+BDzrv5+/AuVhwz/gf24teCvZE+aT0Xw2kd93lO/oZj/D//jz1C7gYv/xvf739qGI17oLeMx/rRXAtLDh8/xhrcBW4PqI5/4QeARvmTvh/QCVeAVvK7AD+Puwz/ooMOjPb1+M8txZfp52f376ddiwb/vv5wjwInBZxPL7W7wVdwewAZgDfNZ//3uBN0V8frGWmeM+b6AYb91yENgP/DeQPlLeMzA/7yNiPcQw8zPwJj+vhQ2vB64+3eeOkNP8ebHR/1zWA+fgrXv78dY5ncAf/fHPx9uId+AVD/fjrytjTP/v8IqJNuAvHD/vOrxlfjuwe5jHLgZW+/lWAxdHzBv/D2+Z6gFmjdH3NwevUaEw7LGngdtjjL8/Yp79EnC///dtwHNhw/L9rPPCHrsIrzi5BXjmJOapOwnbFg7zfp4Bbo547NPAb8LuzweOht2/J9Z3CywFGiMeawIuGuW0h/u85uKtN4pivHYzsDjs/r8DT4fdryPGujtiOvn+fHx5xDJ66yiee8J3ETG8Fm/dOX3EaY3wQkV4G6WfA2/GL5LChs/COyyRDVTgFR3fivgwXsArtqbiLehr8RbkbLyi7T/DQju8ajQfONf/Ut8QObP502oB3oJXeLzRv18R431E/VLwVlQfiZzh8Fb4dwGZ/u0y/BVc5LTCct/r584leuG1H2/llg/8Luy9XEGMwivWQsbxG/W/w9t4zgAK8PayfhGR7Ud+rvPwVixnxfic7sHbGC/BK4p+hb9gxBj/8DC3z4wwbx0GBvAK2f8Ie7wdWBp2fxHQEWMaE4D34O0JFeJt2B+K+Jx24q1Qc/37X/WHnY23cXkt3rz4TT/PcIVX1M8m8vuO8h3d7E/7FiAdrzCoxyvksvE2oh1AQdhrdYRl+zb+itmff/b608oALsBbKc0Pe247cAnespET5b2sAH4A5AAL8Zaz14dljboR8Iffh1ekpvnPvzRs2Pv97yQDuANvDzEnbD4+ClzlD78X2O1PKxP4e/yN7iiWmeM+b+Ah4H/98SbiFWv/MFLesZyf/edH20jGnJ/x9uj/HDH+n/B3OE/nuSPkvAqvMC7BK8LOAqZErgf9+1l4Oyef9L+na/GKs1gb53firY/O8r/n/+D4AsTh7TSUAbnRHvP/b8PbMcoAbvTvTwibN+rxNuwZQGaUHEM7ztFuf4qR/V3A5ojHvgd8N8q4pX7uSWGPXQts8P/+NvDDiOe8ArzH/zsdb1t4IcMsczHmqTv9eaMV2Ii/DYvy3GiF1zT/def43+fXOX6deY8/3VZ/HnlP2LB0vHXHO/y/3+nnyx9p2qP4vD6ItzP2P3jrsw0Rr90MLAm7/zmgLex+HdCAty77K3BejM/kg3g7vhb2nvqAz+DNt/v87zx3NN9FxPAvAMtHWv6cc8MfanTOHcHr8zG08W4ys4fNbJI/fIdz7jHnXK9zrglv43V5xGS+65xrcM7tx9t7WOmce8k51wv8Hq8IC/dF51yXc24D8DO8hS7S+4FHnHOPOOdCzrnH8Jpy3zLc+4niAN5CHqkfmIK3p9bvnHva+Z/sMO70c/fEGP4L59wrzjuE83ng+lM4DBTN+4BvOud2Oec68VoQbohosv+ic67HObcOr3XwvGGm96BzbpVzbgCvuIjZb8Q5VzLM7avDhXbOleC1VHwcr2l/SAHeSmVIO1BgdmI/L+dci3Pud865budcB95ecOT89zPn3Db/e/lN2Pu5Fm8F/JQ/L34erwgczqg/myh2O+d+5rxm+18D1cB/+cvOX/EW/llh4/9fWLbPAReZWTXe4aY6f1oDzrm1eEXJtWHP/YNz7ll/2TgaHsKfxqXAp51zR51zLwM/xtvIjUY/3gq20n/+sb4pzrlf+t/JgHPuG3hF49yw5z7tnPuL//n9Fm9n7avOuX68VpRaMysJG3/EZcZfF70Z+Gd/+WvEW3nfMFLeSKczPw9juPk5ctjQ8MIxeO5w+v3x5uFtgDY75w7GGPc1eBvRb/nrwgfwWqBi+QfgK/40B4AvAwsj+jd9xTnXGrGuDH/srcB259wv/HnpPmAL8Paw8e9xzm30h/dHhnDOvW2Y7/JtMbKfzGdaEDY82rgjTesTeNvCF2NkGc5v8ArbCrwdli+YWbTtZDQH8bbDW/Fa4K7j+EN638E7HDgRb5m7x8wuAfDXXfcCy/B24Jfh7eB0jWLaI31eVXg7We14LfIfB35uZmf5wx8FPmNmhWY2C6/BIS9sWu/D2yGbBjwJ/CViXTLkQ8C9YdvzSby6Q3EZ3jr9fLwdhpP1QbzCdUQjHhv3F6CbnXNDH0wl8C0AM5toZvf7nemO4B1GKI+YREPY3z1R7hccPzp7w/7e479epGnAdeZ1lD9sZofxNiZTRno/EabiVfaR/j+86vevZrbLzD4zimntPYnhe/C+7MjP6lRU+tMLn3YG3gw1JPzYdDcnfubhTmbc0+IvsHcB94b1E+jEa2kdUgR0Rit8/c6Y/2tme/z57ymgJGLjHOv9VBL2nfhZWkaIfDqfTeR8j3NuuGUhPFsn3nxaiTfvL42Y998HTI723CgqgVa/UB2yB29ZGI1P4bWSrDKzjWb2d0MDzOwOv4Nqu5+rmOPn8cj32+xePQFlaCMc9TMg9jIzzX/8YNjn8b94G45h88bJcPNz5LCh4R1j8NyYnHNP4O3Vfx9oMK8zduS0hlQC+yOWvz0xxgXv+/h22HfRivf5h89f0ebP8Mci12lDrznSNE7XyXymnWHDo40bc1pmVolXeH3uVEI65zY55w445wadc8/hta5dO9LzfP8JLMbb8cvB67P9hJnl+dNeG7bz9AjeDua7Acw70eDreEdpsvB2cn9sr57UMdy0R/q8eni1JbXPObcCr4Aa6qv1CX+c7XjdDu7Da4Ea+kye9RsXup1zX8Fr2bws/I37O52X4xWPQ4bWO991zh10zjXjNSCdVCOOmV2Ktw5+YDTjn1SnROfcFryK7hz/oa/gtYYtcM4V4bVEne4ZaNVhf9fgtUpF2ou3Nxy+F5N/Mnul5p2ZORWvOfY4zrkO59wdzrkZeHtZ/2Jmrx8aHGOSI7WIRb6vfrzm0y7CKne/aAjvzDnSdA/grezCpz3A8Ru5MyLibI7I27+PcjJpeO9/aKW6keNb5M7zH4vmDrwWlaX+/PfaoWijeN2DhH0n/sphwigzRxra4wvfA5scbcSTEJ6tAK9l9gDevL8iYt4vcM59JOy5w80zB4AyMwvfi6/BO6w3IufcIefc3zvnKvFaN35gZrP8s4A+DVyP1yWhBG/v9XTWB7GWmXB78fa+y8M+jyLn3Pzh8kZ7sTGanyMNNz9vBBZEtOYuiBh+qs8dlnPuO865C/EO183B64sLJ847B4GpEa9TM8yk9+K1goTPn7l+gXDs5aNFCvs7cp029Jrh8+iw68UoZ5uF3/4c42kbgRkRy0bU9Y9zrg3vsxnu+zk2zMzy8fpEb8TrrjAF2GRmh/AKpyXmnel3KkdBHKNfzs7D6+e4zy+u7sE7DHh2jPHDp70QeMo5t8Z5remr8fq6Dp35GXPao/i81g/7Br3W0Pc55yb7y3YaXpeCmE/hxM/kg3iHvY91nPdz7WPk7exIPoR3RKRzxDEZ+azGef5ebJV/vxrv0N8L/iiFeJXsYf+Mh3+LPqWT8nm/JWM+Xj+WaGeC/BJ4u5ldZWbpZpZjZlcM5RzhPRWZ2dvwDm380nmHNCPHeZu/MTG8Dn+D/g28gmZG5HNG4f3mXUohD/gv4AF/b38bkGNmbzWzTLwmzuyw5zXgHYKJ9V3dB3zSzKb7G+gv4838A6eQ8aS44898ibx9OdpzzOyNZna+/70V4e1dtPHqmT334hW6U/09wzuI3XxbiLfHctjMyvD2uEbrAeBt5l0uJQvvOzmls6Ocd5h9P953nO63qsw8lWmFeUtYti/hHZbYi9d3ZY6ZfcDMMv3bYnu1SX6krHvxOpN+xV9uFuB12v7VaJ5vZteFLWdteCusQbzvYgCvj0WGmX2BE/f4T1asZSb8/RzE69PxDX/ZTjOzmWZ2+Qh5T3Aq87P/GtlmluPfzfI/16GV/nDz83I/yyf8aXzcf/yJ032umd1sZnUx8i42s6X++qaLV0+ogBPXb8/jfa+fMLMMM3s3XuEQy13AZ/31N2ZWbGbXDTN+NI/gzeM3+a/5XrzC4E+jnYCLONss4vbmGM/ZBrwM/Kf/Hb4Lr5j9XYyXuRf4DzMrNbN5eIf97vGH/R44x8ze488bXwDW+40Xf8Y7LLbQv30Br7vFQvfqGYQx5ykzu8Z/TTOzJXitQX8YCmXeJRBy8AqPTP+5Q+u21XhHiyb5y8oH8FqMd/jPvdbMCvxhb8JrTHk47LmXmd/CZWbn47UqrR/NtEf4vJ7C67f3Wf87vwSvZe0v/mvNNLMJ/vr1zXgnL/y3P6zGzC4Zet9m9m94LePPRnxfsQ4F/gz4R/OO4JUC/0zYvDbC8o2Z5eIdVo027ejc8J0wp+IdT96Pt4Dux2vGL/KHz8frgNeJN8PeQVhHcU7siP5LvL5QQ/c/DDzu/13L8Wc1HgI+FTbunRx/VuNSvI5+rXgr+/8DamK8jzq8DXQH3l7483hn0aSHjXMPr3au/6T/nC68avjzYeNdgzeDHAb+legdq497jOPP0DoC/JHjz667GW9voNGf5rHPDa8V5hm8jcbasOmFn9X4Bbw9zSb/M448UzRqp+8on9Oxz8C/fwURHf9P94Y3g27x55kmvJXsgrDhhtecPdTB8+uEnbkVMa1K//104hWw/xDlc/9w2Pg3E9aJlVfP9hztWY0xPxu8fka7/fniG3jz5odjvO4swEVMfx9+x2+OP6uxE2+lND1s3Ll483uTn/0JvJX2CTljvJcqvBVLK97JB7fH+oyiPPfreOuBTv+5t/mPp+OdWXgEb17+FMOcJIK3l1wXdj/D/+6qRlpmiH5W4w/9z7AdbyN2w3B5x3iervPzhN9qRzM/4/UneRFv/bQWOH+0y8IIz/088KsYeV+Pt7Hs5NWz0YdO7JiNty4/zKsdoxf5n+nQWY2/Hm4ew+svuMH/3vYCPw0b5og4CzHGY5f6763d/z/8JI7lxFiHjcF3WetPvwevr1L49ut9wMaw+9nAT/332QD8S8S03oC3ruvxp1kb4zVvJmKZG2Geug9vue/0p/+JiOcuj/LcK/xhOXiHmA/6udcSdiYsXh+tdn/YOvzlKGz4x/EKqQ68TurhVx4YadojfV7z8bbNXcAm4F1hw67Hqwu6/fnzqojnDV05oQX4G7AoYtoX+cMLo3z+mXgnGx3Gqzu+Q9hJScN9F/7wG/EOhUfdTkW7DfXsD5yZ1eJtuDJdHFprRCRxmdlyvELtx0FnSUbmXUDyn5xz0a4RJSIB0sU+RURSjAu7gKSIJJak+a1GERERkWSXMIcaRURERFKdWrxERERE4kR9vGRY5eXlrra2NugYIiJJ5cUXX2x2zsX6gW0Zx1R4ybBqa2tZs2ZN0DFERJKKmQ13hX8Zx3SoUURERCROVHiJiIiIxIkKLxEREZE4UeElIiIiEicqvERERETiRIWXiIiISJyo8BIRERGJExVeIiIiInGiwktEREQkTnTlehEZM8tW1kd9/KalNXFOIiKSmNTiJSIiIhInKrxERERE4kSFl4iIiEicqPASERERiRN1rheREcXqNA/gnGNfWw/bGzvJzUyjND+L6tI88rO1ehERiaQ1o4icEuccq+paWb61ifae/uOGZWekceXciVw8cwIZ6WpYFxEZosJLRE5ab/8gv395P+v3tVM7IZ83nT2JeZOL6A+FaOns4+ntTTy68RCr61q5+eLaoOOKiCQMFV4iclK6egf40dO7aOro5aqzJ3HZnArSzADIJZ2inEyml+ezvaGDX6/Zy4+f2c07FlYybUJ+wMlFRIKnYwAiMmp9AyF+/nwdrV193HLJdC6fO/FY0RVp9qRCbr10Ov2DIW68+wX2tnbHN6yISAJS4SUiozIYcixbtYf9bT3csLiGWRMLRnzOlOJcbr10Ol19g3z0V2vpHwzFIamISOJS4SUio/LnVw6yraGTaxZO5ezKolE/b0pxLl97zwI27G/n249vP4MJRUQSnwovERnR+n2HeW5nCxfPnMCS6WUn/fyrz5nM9Yuq+MHyHayuaz0DCUVEkoMKLxEZ1s6mTh58aT81ZXlcfc7kU57OF94+n6rSPO74zTp6BwbHMKGISPJQ4SUiMXX3DfCRX75IRppx45IaMtJOfZVRkJ3Bl991LvWt3dz73J4xTCkikjxUeIlIVM45Pvf7V9je2Ml7F1dTnJt52tO8dHY5V8yt4LtPbOdwd98YpBQRSS66jpeIRLVsVT2/f2k///LGOZQXZJ/etMJ+cmhBVQkrtjbxsV+t5a0LKo8b76alNaf1OiIiiU4tXiJygrX1bXzx4U1cPqeCj185a0ynPbkohwunlfLCrlZau9TqJSLjiwovETnOwfYebrv3RSYX5/Ct9y4kLS36BVJPxxvOmoQZLN/aOObTFhFJZCq8ROSYnr5B/v7eNRztH+THH1pEaX7WGXmdotxMLpxWykv1h0/4gW0RkVSmPl4i40B4H6shkf2pnHP82wPr2HjgCD/+4CLmTCo8o5leO6eC1XWtPL29ibdF9PUSEUlVavESEQC+98QO/rT+IJ+6ah6vP2vSGX+90rwsFlaXsLqulc7egTP+eiIiiUCFl4jw6CuH+MZj23jX+VO5/fIZcXvd186pYGDQ8dyO5ri9pohIkFR4iYxzdc1d3PGbl1lYXcJX3n0uZmPfmT6WiYU5nF1ZxAu7W+jt19XsRST1qY+XyDjWPxjin+5/iYz0NH7wvgt4cO3+uGd47ewKNh44wuq6Vm65dHrcX19EJJ7U4iUyjn3r8W2s29fOV959LpUluYFkqC7LY3p5Ps/ubKFvIBRIBhGReFHhJTJOvbinjR8s38n1i6p4y7lTAs3y2tkVtPf088d1BwLNISJypqnwEhmHnHN89c+bKS/I5j/fPj/oOMyZVMDkohz+96mdhEIu6DgiImeMCq8UYWbVZvakmW02s41m9k9RxjEz+46Z7TCz9WZ2QRBZJXjbGztZXdfGJ143i/zs4Lt6mhmXzS5nW0Mny7fpavYikrqCX+PKWBkA7nDOrTWzQuBFM3vMObcpbJw3A7P921Lgh/7/Mo445/jrpkOU5mXiiH5x1SAsqCrh2R3N3LViF6+bd+avIyYiEgS1eKUI59xB59xa/+8OYDMwNWK0a4B7necFoMTMgu3cI3G38cARDhw+yuvnTSIjLXFWAelpxq2XzWDV7lbW1rcFHUdE5IxQi1cKMrNa4HxgZcSgqcDesPv7/McORjz/NuA2gJqa439WRpLfim1NVBRks7CmJOgoJ7hhcTXf+dt27l6xi7s+cOGxx0fzk0ciIskgcXZ3ZUyYWQHwO+CfnXNHIgdHecoJPZmdc3c75xY55xZVVFSciZgSkEPtR9l/uIelM8pIi+OFUkcrPzuDD140jb9sOsSups6g44iIjDkVXinEzDLxiq5fOecejDLKPqA67H4VoPP3x5G19W2kmdefKlF96OJastLTuGvFzqCjiIiMORVeKcK833n5CbDZOffNGKM9DHzQP7vxNUC7c+5gjHElxQyGHC/vPczcyUUUJMCZjLGUF2Rz45IaHly7n72t3UHHEREZUyq8UsclwAeA15nZy/7tLWZ2u5nd7o/zCLAL2AH8CPhoQFklADsaO+jsHeDCBOzbFen2y2eSZsYPlqvVS0RSS+Lu9spJcc49Q/Q+XOHjOOBj8UkkiebF+sPkZaUzZ3Jh0FFGNLk4hxuWVHPfqno+/rpZQccRERkzavESGQd6+gbZfPAI51WXJNQlJIZz++UzAfjh8h0BJxERGTvJsQYWkdOyvbGDwZBjwdTioKOMWmVJLtctquY3q/fR3tMfdBwRkTGhwktkHNjW0EFuZjrVZXlBRzkpH7l8JiHneGpbU9BRRETGhAovkRQXCjm2NXQye1JBQl67azjVZXlce2EVq+taOaJWLxFJASq8RFLcpoNH6OwdYM6kxO9UH81Hr5hFyDme3q5WLxFJfiq8RFLck1saAZg9sSDgJKemZkIeC6tLWbm7lY6javUSkeSmwkskxS3f1sTUklwKczKDjnLKrphbwWDI8cKulqCjiIicFhVeIinscHcfL9W3Je1hxiHlBdnMm1zIyt2t9A+Ggo4jInLKVHiJpLCntzcTcjB3UnIeZgx3yaxyuvsGeXnv4aCjiIicMl25XiSFPbO9maKcDKqS5DISy1bWxxw2vTyfKcU5PLujmUXTSuOYSkRk7KjFSySFra5rZXFtWdJdRiIaM+PimeU0dvSyo6kz6DgiIqdEhZdIimrq6GVXcxeLp5cFHWXMnFdVTH52Bs/vVCd7EUlOKrxEUtTqulYAFtemTuGVkZ7GBTUlbGvooLmzN+g4IiInTYWXSIpatbuVnMw0zk2i32ccjQtqSgk5+MPLB4KOIiJy0lR4iaSo1XWtnF9dSlZGai3mk4pymFqSy4Nr9wUdRUTkpKXWGllEAOg42s/mg0dSqn9XuPNrSth44AhbDh0JOoqIyElR4SWSgl7c00bIwZIU6t8VbkFVCRlpxu9eVKuXiCQXXcdLJIUMXQfrrxsPkWawvbGD+tbugFONvYLsDK6cN5GHXj7Ap6+eR0a69iFFJDlobSWSgupauqgsySU7Iz3oKGfMOxdOpamjl9V1bUFHEREZNbV4iaSY/sEQe9t6uGjGhKCjnFGNHUfJSDO+88R2djd3AXDT0pqAU4mIDE8tXiIpZl9bD4MhR+2E/KCjnFHZGenMnljApgNHcM4FHUdEZFRUeImkmD0tXutP7YTk+H3G03F2ZTHtPf3sP9wTdBQRkVFR4SWSYupauphYmE1edur3JDhrciFpBpsO6LISIpIcVHiJpJCQc+xp6U75w4xD8rIzqC3PZ+NBFV4ikhxUeImkkEPtR+kdCFFbnvqHGYfMn1JEU0cvjR1Hg44iIjIiFV4iKWTo7L7x0uIFXj8vgM063CgiSUCFl0gKqWvpoiQvk5K8rKCjxE1xbiaVJTlsbegIOoqIyIhUeImkCOccdeOof1e4uZMKqW/tpr27P+goIiLDUuElkiJ2N3fR1TswbguvkIOntjcFHUVEZFgqvERSxOq6VmB8XL8rUlVZHnlZ6Ty5tTHoKCIiw1LhJZIiVu1uIy8rnYrC7KCjxF2aGXMmFbJiaxOhkK5iLyKJS4WXSIpYVddC7YR8zCzoKIGYM6mQlq4+1u9vDzqKiEhMKrxEUsCh9qPsbe2htnz89e8aMmdiAWbw5BYdbhSRxKXCSyQFrBrH/buG5GVncH51CcvVz0tEEpgKL5EUsHp3K/lZ6Uwpzg06SqCunDuRdfvaaeroDTqKiEhUKrxShJm7NNazAAAec0lEQVT91MwazeyVGMOvMLN2M3vZv30h3hnlzFld18oF00pJTxuf/buGXDlvIgArtumyEiKSmFR4pY57gKtHGOdp59xC//ZfccgkcXC4u4+tDR0sqS0LOkrg5lcWMbEwW5eVEJGEpcIrRTjnngJag84h8bemrg3nYPF0FV5mxhVzK3hqWxMDg6Gg44iInECF1/hykZmtM7M/m9n8WCOZ2W1mtsbM1jQ16ZBNoltd10pmurGwuiToKAnhyrkT6Tg6wIt72oKOIiJyAhVe48daYJpz7jzgu8BDsUZ0zt3tnFvknFtUUVERt4ByalbubmVBVQk5melBR0kIl8wuJyPNeHKrdhpEJPGo8BonnHNHnHOd/t+PAJlmVh5wLDlNR472s37fYS6eOSHoKAmjKCeTxbVluqyEiCQkFV7jhJlNNv+S5ma2BO+7bwk2lZyuVbtaCTm4eKZq6HBXzqtgy6EODhzuCTqKiMhxVHilCDO7D3gemGtm+8zsVjO73cxu90e5FnjFzNYB3wFucM7pR+2S3HM7W8jOSOP8GvXvCnflXO+yEjq7UUQSTUbQAWRsOOduHGH494DvxSmOxMlzO5tZVFuq/l0RZk0sYGpJLk9uaeJ9S6cFHUdE5Bi1eIkkqZbOXrYc6tBhxijMjNfNm8izO5rpHRgMOo6IyDEqvESS1PO7vC566lgf3ZXzKujpH2TVbl3eTkQShwovkST13M4WCrMzOHdqcdBREtJFM8rJykjjiS3q5yUiiUOFl0iSen5nC0tnlJGRrsU4mtysdC6aMYHlup6XiCQQda4XSUL7D/ewu7mLs6cUsWxlfdBxEtaVcyu484+b2N3cxfTy/KDjiIio8BJJRkMXB509sSDgJIklsgjt7PU61j+5pZHpl04PIpKIyHF0jEIkCS3f2kRJXiYVhdlBR0loZflZlBdk87ctDUFHEREBVHiJJJ3egUGe29HM3EmF+D9GIMOYX1nEC7taaevqCzqKiIgKL5Fks6auja6+QeZMKgw6SlKYX1nEYMjx+Ga1eolI8FR4iSSZ5VsbyUpPY2aF+neNxtSSXKaW5PKXjYeCjiIiosJLJNk8ubWJpTPKyMrQ4jsaZsZV8yfz1PZmOnsHgo4jIuOc1twiSWRvazc7Gju5wv8RaBmdq8+ZTN9AiCd1MVURCZgKL5EksnybdzHQK+ZWBJwkuVw4rZTygmwe1eFGEQmYCi+RJLJiayPVZbnM0MVAT0p6mnHV/Ek8uaWRo/360WwRCY4KL5Ek0TswyLM7Wrhy7kRdRuIUvPXcKXT3DersRhEJlK5cL5IElq2sZ3tjBz1+a41+JujkLFtZT8g5inIy+P4TOzjSM8BNS2uCjiUi45BavESSxLZDHWSkGTPKdRmJU5FmxoKqErY1dNKtsxtFJCAqvESSxNaGTqaX5+syEqdhYXUJg86x4UB70FFEZJzSGlwkCbR29dHc2cvcybpa/emYUpxDRWE2L+89HHQUERmnVHiJJIGtDR0A+pmg02RmLKwuYU9LN/vauoOOIyLjkAovkSSw7VAHZflZlBdkBx0l6Z1XVQLA79fuDziJiIxHKrxEEtzR/kF2NXcyV61dY6IsP4sZ5fn85sW9hEIu6DgiMs6o8BJJcCt3t9I/6HSYcQwtri1jb2sPz+5sDjqKiIwzKrxEEtzyrY3eZSQqdLX6sXJ2ZREleZncv2pv0FFEZJxR4SWS4JZvbWJGRT6Z6Vpcx0pmehrvPr+Kv246REtnb9BxRGQc0ZpcJIHVNXexu7lL/bvOgBuXVNM/6Pjd2n1BRxGRcUSFl0gCW761EdBlJM6E2ZMKuXBaKfev3otz6mQvIvGhwkskgS3f1sSM8nwm6DISZ8QNi6vZ1dTFqt2tQUcRkXFChZdIgjraP8jzO1u4fG5F0FFS1lsXTKEwO4P7V6uTvYjEhwovkQT1/K4WegdCXDF3YtBRUlZeVgbXnF/JIxsO0t7dH3QcERkHVHiJJKgVW5vIyUxj6fSyoKOkpGUr61m2sp6S3Cx6B0J87qENLFtZH3QsEUlxKrxEEtRT25q4aMYEcjLTg46S0ipLcplaksuaujZ1sheRMy4j6AAi8qqhFpfWrj52NXdxdmWRWmHiYFFtKX94+QD72nqCjiIiKU4tXiIJaFtDB6DLSMTLeVUlZKWnsapOZzeKyJmlwkskAW1r6KAsP4sJ+VlBRxkXcjLTWVBVzPp9hzlyVJ3sReTMUeGVIszsp2bWaGavxBhuZvYdM9thZuvN7IJ4Z5TRGRgMsaupizmTCjCzoOOMG0uml9E/6Hjopf1BRxGRFKbCK3XcA1w9zPA3A7P9223AD+OQSU5BXUs3fYMh5kzUYcZ4qirNo7Ikh2Ur69XJXkTOGBVeKcI59xQwXAeVa4B7necFoMTMpsQnnZyM7Q0dpKcZ0yvyg44y7iypncCWQx2srT8cdBQRSVE6q3H8mAqEX557n//YwcgRzew2vFYxampq4hJOXrWtsYPaCXlkZ+gyEvF2XlUxj7xykP/3f5u59sKqY4/ftFTLgYiMDbV4jR/ROgtFPZ7inLvbObfIObeookI/VxNPh7v7aDjSq7MZA5Kdmc55VSVs2H+Ynr7BoOOISApS4TV+7AOqw+5XAQcCyiIxbG/sBHQZiSANdbJ/aW9b0FFEJAWp8Bo/HgY+6J/d+Bqg3Tl3wmFGCda2hg6KczOZWJgddJRxa6p/JftVu1vVyV5ExpwKrxRhZvcBzwNzzWyfmd1qZreb2e3+KI8Au4AdwI+AjwYUVWLoHwyxo7FTl5FIAEuml9HY0Ut9a3fQUUQkxahzfYpwzt04wnAHfCxOceQUvFR/mN6BELN1GYnALagq5pENB1m1u5VpE3R2qYiMHbV4iSSIFdsaSTOYNbEg6CjjXnZGOudVl7BhfzvdfQNBxxGRFKLCSyRBrNjWRE1ZHjmZuoxEIlhSW8ZAyPGSruklImNIhZdIAmjq6OWV/Ud0NmMCqSzJpao0l1V16mQvImNHhZdIAlixrQnQZSQSzZLaMpo6elldp0tLiMjYUOElkgCWb22kojCbKcU5QUeRMAuqSsjOSGPZyj1BRxGRFKHCSyRgA4Mhnt7ezOVzKnQZiQSTlZHGwuoSHnnlEG1dfUHHEZEUoMJLJGDr9h2mvaefK+bq55kS0ZLpZfQNhPjd2n1BRxGRFKDCSyRgK7Y2kWZw2SwVXoloSnEu59eUsGxVvTrZi8hpU+ElErDl25q4oKaU4rzMoKNIDDctqWFXUxcrd7cGHUVEkpwKL5EANXf2sn5fO5fPUWtXInvbgkoKczJYtrI+6CgikuRUeIkE6Cn/MhJXzJ0YcBIZTm5WOu+5oIpHXzlEqzrZi8hpUOElEqDlW5soL8hifmVR0FFkGMtW1lOUm0nfYIjP/X6DWr5E5JTpR7JFAvLLF/bw2KYG5k0u5P7Ve4OOIyOYXJRDTVkeq3a3csms8qDjiEiSUouXSED2tfXQ0z/InMm6Wn2yuHjmBFq6+th6qCPoKCKSpFR4iQRkW0MHBsyeWBB0FBml+ZXFlORm8syO5qCjiEiSUuElEpBtDR1Ul+WRl6Uj/skiPc24aOYEdjd38cr+9qDjiEgSUuElEoCWzl72t/UwZ5Jau5LN4toysjLS+Mkzu4OOIiJJSIWXSACe3t6MA+ZMUv+uZJOTmc7iaaX8cd0BDrb3BB1HRJKMCi+RACzf2kh+dgaVJblBR5FTcPFM76zGu5bvDDiJiCQbFV4icTYYcjy1vZk5EwtIMws6jpyC0vwsrr2wivtW7eVQ+9Gg44hIElHhJRJna+vbaO3qY94UXTQ1mX3sylmEnOOHy3cEHUVEkogKL5E4e3xTA5nppstIJLnqsjyuW+S1eqmvl4iMlgovkTh7bHMDr5kxgZzM9KCjyGkaavX67hNq9RKR0VHhJRJHO5s62dXUxRvPnhR0FBkDVaV5vP8107h/VT1bDh0JOo6IJAEVXiJx9LfNDQC8bt7EgJPIWPnnN8ymKDeTL/1pE865oOOISIJT4SUSR49vauSsKUVUleYFHUXGSEleFp98wxye3dHCY5sago4jIglOhZdInLR29bFmTytvPEutXanmfUtrmD2xgP/3yGaO9g8GHUdEEpgKL5E4+dvmBkIO3qD+XSknIz2NO98xnz0t3Xz3ie1BxxGRBKZf5xWJk0c2HGRqSS7nTi0OOoqcAZfMKufaC6v44fKdpJkxpfjVXyW4aWlNgMlEJJGoxUskDn7y9G6e2tbM9PJ87lu1l2Ur64OOJGfA595yFrlZGTy4dj8hdbQXkShUeInEwZZDRxh0Tq1dKa40P4u3L5jC/sM9PLO9Oeg4IpKAdKhRJA427G+nODeTqlL9KHaqiNVqee7UYtbva+exzQ3MmVzI5KKcOCcTkUSmFi+RM6zjaD/bGzs5p7II049ipzwz453nTyUnM53frtnLQCgUdCQRSSAqvETOsL9tbmQw5DhHhxnHjYLsDN61cCoH24/yxObGoOOISAJR4SVyhv1p/UGKcjKoLtNFU8eTsyuLuLCmlBXbmnhxT1vQcUQkQajwShFmdrWZbTWzHWb2mSjDbzazJjN72b99OIic401rVx/LtzayoKqENB1mHHfeumAKxXmZ3PGbl+nuGwg6jogkABVeKcDM0oHvA28GzgZuNLOzo4z6a+fcQv/247iGHKf+tP4AAyHH+TUlQUeRAORkpnPtBVXsae3mK49sCTqOiCQAFV6pYQmwwzm3yznXB9wPXBNwJgF+t3Y/8yYXHncxTRlfZlQUcOsl0/nFC3tYsa0p6DgiEjAVXqlhKrA37P4+/7FI7zGz9Wb2gJlVx5qYmd1mZmvMbE1TkzYUp2pnUyfr9h7mPRdUBR1FAvavV81l9sQCPvXAOtq7+4OOIyIBUuGVGqJ1Hoq8bPYfgVrn3ALgceDnsSbmnLvbObfIObeooqJiDGOOL79fu580g2sWVgYdRQKWk5nON69fSEtnH5//wytBxxGRAKnwSg37gPAWrCrgQPgIzrkW51yvf/dHwIVxyjYuhUKO37+0n0tnVzBRF9AU4NyqYj7x+tk8vO4Af1x3YOQniEhKUuGVGlYDs81supllATcAD4ePYGZTwu6+A9gcx3zjzjM7mtl/uIf3XBDtiK+MN8tW1rNsZT2leVlUlebyqQfW03DkaNCxRCQAKrxSgHNuAPg48Be8guo3zrmNZvZfZvYOf7RPmNlGM1sHfAK4OZi048MvXtjDhPwsrj5nctBRJIGkpxnXXVjNQCjEp3+3Hqcf0hYZd/RbjSnCOfcI8EjEY18I+/uzwGfjnWs82n+4h79tbuD2y2eSnZEedBxJMBWF2Vw9fzJ/XH+Q+1bt5aalNUFHEpE4UuElMsbuW1mPA21QJaalMyaw+WAHdz68kZbOXiYUZB8bpvlGJLXpUKPIGOobCHH/6npeP28iVaX6iSCJLs2Md18wlbQ0eODFfYR0yFFk3FCLl8gY+vxDr9Dc2UdVaR7LVtYHHUcSWEleFm9fUMlvX9zH09ubuXyOLt0iMh6oxUtkjDjneGp7E+UFWcyaWBB0HEkCC6tLmF9ZxOObGjjY3hN0HBGJAxVeImNkxbYmDrYf5fI5FfpBbBkVM+OdC6eSl5XOr1fvpX8wFHQkETnDVHiJjJEfPLmT4txMzqvWD2LL6OVnZ/CeC6to7Ojl0Y2Hgo4jImeYCi+RMbBqdyur6lq5bHY5GWlarOTkzJlUyEUzJ/D8zhaWb20MOo6InEHaQoiMge8/uYMJ+VksmlYWdBRJUlfPn8ykomz+9bfraensHfkJIpKUVHiJnKbnd7awYlsTH75sBlkZWqTk1GSmp/HeRTUcOdrPp3+3QVe1F0lR2kqInIZQyPHlRzZTWZzDLZfUBh1Hktzk4hw+ffU8Ht/cwLJVuhyJSCpS4SVyGv64/gAb9rdzx5vmkpOpnweS03fLxbVcNrucL/1pE9sbOoKOIyJjTIWXyCnqHRjk649u5ewpRbzr/KlBx5EUkZZmfOO68yjIzuT2X75IZ+9A0JFEZAyp8BI5Rf+7Yhf7D/fw7285i7Q0XbdLxsaylfU8vrmRdy6sZFdTFzfe/YL6e4mkEBVeIqdgZ1Mn33tiB29bMIVLZ5cHHUdS0IyKAq6aP5kN+9v5yTO7g44jImNEv9UocpJCIcdnH9xAWhqcO7VYv8koZ8xls8vZ29bNlx/ZzMyKAq6cNzHoSCJymtTiJXKSfrNmL6t2t/Lmc6ZQmJMZdBxJYWbGdRdWc9aUIv7xvpfYcuhI0JFE5DSp8BI5CXtauvjSnzaxdHoZF04rDTqOjANZGWn85EOLyc9O59Z71nCo/WjQkUTkNKjwEhmFZSvr+cXze3j/j1cy6Jx+CFvianJxDj/50GLae/r5wE9Wcri7L+hIInKKVHiJjNITWxrY29bDOxdOpSQvK+g4Mo4sW1nP+n3tvHdxNbuau3j7d5+hu0+XmRBJRiq8REZhW0MHy7c2cUFNKQuqSoKOI+PUzIoCblhczb62Hm69Z42KL5EkpMJLZAR1zV3cv7qeSUU5vOO8yqDjyDg3v7KY6xZVsXJ3C7fes4aevsGgI4nISVDhJTKMzt4BbvvFGgzj/a+Zph/BloSwsLqUb1x/Hit3t3DLPat0dXuRJKKtiEgM/YMhPvartexo7OTGJTWU5atflySOd51fxTevX8jqujbe96MXaOtSh3uRZKDCSySKUMjxb79dx4ptTXz5Xecya2JB0JFEjrNsZT3dfYPctKSGjQeOcNW3nuIHT+4IOpaIjECFl0gE5xxf+r9NPPTyAf71TXO4YUlN0JFEYjprShE3X1xLe08/P1y+k3V7DwcdSUSGocJLJIxzji/+cRM/e7aOWy6p5WNXzgo6ksiIZlQUcPvlM8lIN9579/M8vO5A0JFEJAYVXiK+UMjx779/hXueq+PWS6fzhbedjekiqZIkJhXl8JErZnFOZTGfuO8lPvvgep3xKJKA9CPZIkB33wD/fP/L/HVTA1fMqWBGeT73rdobdCyRk1KQncF9t72G/3lsGz9csZPVdW186ZpzuGjmhKCjiYhPLV4y7h1qP8p1dz3P45sbeNuCKbzx7Elq6ZKk9ds1+6gqzePmi2tp6ezlxh+9wCfue4k9LV1BRxMRwJxzQWeQBLZo0SK3Zs2aoGOcEctW1rOtoYPfrtlLf8hx4+Jq5k4uCjqWyJjpHwyxYlsTz+xopn8wxNXzJ/PBi2pZMr2M9DTtXJxJZvaic25R0Dkk8ehQo4xLR/sHefSVgzy1vZlJRdncuLiGiUU5QccSGVOZ6Wm84axJfOXd5/Lz5+r45Qt7+PMrhygvyGJ6eQGzJhYwozyf/OxXNwU3LdVZvCJnkgovGXdW7W7lMw+uZ1dTF0tqy3jrgilkpuuou6SuSUU5fOrqeXz8dbN4cksTj7xykMc2NbC6rhWAyUU5zKjIZ2ZFAe09/RTnZgacWCR16VCjDCuVDjXWt3Tzzce28tDLB6guy+UN8yYxe1Jh0LFEAjEYcuxv62Zncxe7mjrZ09LNQMiRZnDO1GIumjGB18ycwJLasuNaxGR0dKhRYlHhJcNKhcJre0MHP3uujt+u2Ut6mvF3l0zn46+bxUMv6VpHIkP6B0PsbetmV5NXiO1t7WHQOdLNWDK9jNfOqeC1c8o5e0qRTj4ZBRVeEot2YyQltXT28vjmBv7w8gGe29lCVkYa1y2q5p9eP5tJ6sslcoLM9DRmlBcwo7wAzppE30CIPS1d7GjqpKmjl689uoWvPQrlBdksmV7KgqoSzqksprY8jynFueqsLzJKavFKIWZ2NfBtIB34sXPuqxHDs4F7gQuBFuC9zrm64aaZDC1egyHH3tZuthzq4KX6NlbVtbJu72FCDqrLcrlhcQ2Z6WkU6HCJyCk7crSfHQ2dbG/soL61m7bu/mPDMtONkrwsinIyKMrNpCgnk4KcDHIz08nJTKOuuZuMdCM7I538rHTyszN45/lTmZCfRWm+97xUa0VTi5fEosIrRZhZOrANeCOwD1gN3Oic2xQ2zkeBBc65283sBuBdzrn3DjfdM1F4OedwDhwQco6Qf79vMERvf4ij/YP0Drz6f2//IJ29Axzu7qetu4+27n4Od/dx6MhR9rX1sK+tm6P9IQDS04yqklxmVOQzv7KYKcU5KbdCF0kEV58zmS0Hj1DX0k19azftPX0c6Rlga0MHR/sHOdo/SP+go38wRP9giIFBR6ytzVDhVpKbSUleJsW5mRTnZlGYk0FOZjrZGWnk+EXcsf8z0r1hmWlkpaeRnmZkpqeRkW5kpKWRmW6vPpZmZKSHPZaWRtoZbqFT4SWxqAkgdSwBdjjndgGY2f3ANcCmsHGuAe70/34A+J6ZmTsD1ff1dz3Phv3tx4oqhyPkOHb/dKSbkZeVTmFuBiW5WSyaVsbEwmwmFeUwuThHZyiKxMGjrxw69ndNWR6QB8Als8qjju+co28wRHfvIF19A3T5/3f3DtDVN0hX7wA9/YO0dPaxr62H7r5Bege84m0wNPYNBGnm7agZhv8PADMwDDN47jOvoyQva8xfW8Y3FV6pYyoQ/hs3+4ClscZxzg2YWTswAWgOH8nMbgNu8+92mtnWMchXHvk6CSpZckLyZE2WnJA8WZMlJyRP1hNyln7ptKY37bSeLSlLhVfqiNZuHrmbOJpxcM7dDdw9FqGOvbDZmmRodk+WnJA8WZMlJyRP1mTJCcmTNVlySvLTMZnUsQ+oDrtfBUReL+HYOGaWARQDrXFJJyIiIiq8UshqYLaZTTezLOAG4OGIcR4GPuT/fS3wxJno3yUiIiLR6VBjivD7bH0c+Ave5SR+6pzbaGb/Baxxzj0M/AT4hZntwGvpuiGOEcf00OUZlCw5IXmyJktOSJ6syZITkidrsuSUJKfLSYiIiIjEiQ41ioiIiMSJCi8RERGROFHhJWPGzK42s61mtsPMPjPMeNeamTOzwE7dHk1WM7vezDaZ2UYzWxbvjH6GYXOaWY2ZPWlmL5nZejN7S0A5f2pmjWb2SozhZmbf8d/HejO7IN4Zw7KMlPV9fsb1ZvacmZ0X74xhWYbNGjbeYjMbNLNr45Ut4vVHzGlmV5jZy/7ytCKe+SJyjPT9F5vZH81snZ/1lnhnlBTn/XyLbrqd3g2vQ/9OYAaQBawDzo4yXiHwFPACsChRswKzgZeAUv/+xATNeTfwEf/vs4G6gD7T1wIXAK/EGP4W4M9415J7DbAyiJyjzHpx2Pf+5kTOGjafPAE8AlybiDmBErxf0ajx78d9eTqJrP8OfM3/uwLvRKSsoPLqlno3tXjJWDn2k0XOuT5g6CeLIn0J+DpwNJ7hIowm698D33fOtQE45xrjnBFGl9MBRf7fxZx47ba4cM49xfDXhLsGuNd5XgBKzGxKfNIdb6Sszrnnhr53vB2EqrgEi55lpM8V4B+B3wFBzKPAqHLeBDzonKv3x0/krA4oNO9HXgv8cQfikU3GBxVeMlai/WTR1PARzOx8oNo596d4BotixKzAHGCOmT1rZi+Y2dVxS/eq0eS8E3i/me3Da/H4x/hEO2mjeS+J6Fa8lrqEZGZTgXcBdwWdZQRzgFIzW25mL5rZB4MONIzvAWfh7cRsAP7JORcKNpKkEl3HS8bKsD9HZGZpwP8AN8cr0DBG89NJGXiHG6/Aa/F42szOcc4dPsPZwo0m543APc65b5jZRXjXaTsnATcUo/q5qkRiZlfiFV6XBp1lGN8CPu2cG/QaaBJWBnAh8HogF3jezF5wzm0LNlZUVwEvA68DZgKPmdnTzrkjwcaSVKEWLxkrI/1kUSFwDrDczOrw+vk8HFAH+9H+vNIfnHP9zrndwFa8QiyeRpPzVuA3AM6554EcvB/7TTSjeS8Jw8wWAD8GrnHOtQSdZxiLgPv9Zepa4Adm9s5gI0W1D3jUOdflnGvG6+cZ2EkLI7gF77Coc87tAHYD8wLOJClEhZeMlWF/ssg51+6cK3fO1TrnavH6zrzDObcm0bL6HgKuBDCzcrxDJbvimnJ0OevxWhEws7PwCq+muKYcnYeBD/pnN74GaHfOHQw6VDRmVgM8CHwgQVtkjnHOTQ9bph4APuqceyjgWNH8AbjMzDLMLA9YCmwOOFMs4cvUJGAu8V/2JYXpUKOMCTe6nyxKCKPM+hfgTWa2CRgE/i3eLR+jzHkH8CMz+yTeobubnXNxP4RnZvfhHZYt9/ub/SeQ6b+Pu/D6n70F2AF047UqBGIUWb8ATMBrPQIYcM4FcumTUWRNCCPldM5tNrNHgfVACPixc27YS2QElRXvBKB7zGwD3iHyT/utdCJjQj8ZJCIiIhInOtQoIiIiEicqvERERETiRIWXiIiISJyo8BIRERGJExVeIiIiInGiwktEREQkTlR4iYiIiMTJ/w/0zyesHPJydAAAAABJRU5ErkJggg==\n",
>>>>>>> e2804d706a2299038e1989eb789f78cd9e938c63
      "text/plain": [
       "<Figure size 432x288 with 1 Axes>"
      ]
     },
     "metadata": {
      "needs_background": "light"
     },
     "output_type": "display_data"
    }
   ],
   "source": [
    "central_limit_theorem_plotter(exponential, 30, 10000)"
   ]
  },
  {
   "cell_type": "markdown",
   "metadata": {
    "slideshow": {
     "slide_type": "slide"
    }
   },
   "source": [
    "### Back to the Standard Error of the Mean"
   ]
  },
  {
   "cell_type": "markdown",
   "metadata": {},
   "source": [
    "The standard error of the mean is the standard deviation of the sampling distribution.\n",
    "\n",
    "**Population sigma**\n",
    "### $\\sigma _{x} = \\frac{\\sigma }{\\sqrt{n}}$\n",
    "\n",
    "* $ \\sigma _{x}$ = standard error of $\\bar{x} $\n",
    "* $ \\sigma $ = standard deviation of population"
   ]
  },
  {
   "cell_type": "markdown",
   "metadata": {
    "slideshow": {
     "slide_type": "slide"
    }
   },
   "source": [
    "**What if we do not know the population sigma?**<br>\n",
    "If we do not know the population standard deviation, we can approximate for it by used the sample standard deviation.\n",
    "\n",
    "### $\\sigma _{x} ≈ \\frac{s}{\\sqrt{n}}$\n",
    "\n",
    "* s = sample standard deviation"
   ]
  },
  {
   "cell_type": "markdown",
   "metadata": {
    "slideshow": {
     "slide_type": "slide"
    }
   },
   "source": [
    "### Confidence Intervals"
   ]
  },
  {
   "attachments": {
    "confidence_intervalgif.gif": {
     "image/gif": "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"
    }
   },
   "cell_type": "markdown",
   "metadata": {},
   "source": [
    "![confidence_intervalgif.gif](attachment:confidence_intervalgif.gif)\n",
    "\n",
    "- Point estimate (Statistic) +/- margin of error"
   ]
  },
  {
   "cell_type": "markdown",
   "metadata": {
    "slideshow": {
     "slide_type": "slide"
    }
   },
   "source": [
    "**KEY POINT** : Is our level of confidence that if we obtained repeated samples of the same size, our interval would contain the true population mean.\n",
    "\n",
    "**IT IS NOT** : The probability that the population mean lies within our sample interval. <-- this implies that there is an element of probability related to having the population mean within our sample. It either is or it is not."
   ]
  },
  {
   "attachments": {
    "image.png": {
     "image/png": "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"
    }
   },
   "cell_type": "markdown",
   "metadata": {},
   "source": [
    "![image.png](attachment:image.png)"
   ]
  },
  {
   "cell_type": "markdown",
   "metadata": {
    "slideshow": {
     "slide_type": "slide"
    }
   },
   "source": [
    "#### Example 1:\n",
    "Let's construct an 80% and 95% confidence interval for one of our samples: \n",
    "\n"
   ]
  },
  {
   "cell_type": "code",
<<<<<<< HEAD
   "execution_count": 12,
   "metadata": {},
   "outputs": [
    {
     "name": "stdout",
     "output_type": "stream",
     "text": [
      "1.2815515655446004\n"
     ]
    },
    {
     "data": {
      "text/plain": [
       "(20.248611280542317, 27.77338871945768)"
      ]
     },
     "execution_count": 12,
=======
   "execution_count": 38,
   "metadata": {},
   "outputs": [
    {
     "data": {
      "text/plain": [
       "(16.938423001277556, 28.446576998722456)"
      ]
     },
     "execution_count": 38,
>>>>>>> e2804d706a2299038e1989eb789f78cd9e938c63
     "metadata": {},
     "output_type": "execute_result"
    }
   ],
   "source": [
    "# 80%\n",
    "import scipy.stats as scs\n",
    "sample = np.random.choice(trip_durations, size=200)\n",
    "# sample_size = 200\n",
    "sample_mean = sample.mean()\n",
    "# print(sample_mean)\n",
    "z_critical_upper = scs.norm.ppf(0.975)\n",
    "# print(z_critical_upper)\n",
    "margin_of_error = z_critical_upper * (pop_std/(sample_size**0.5))\n",
    "confidence_interval = (sample_mean - margin_of_error,\n",
    "                       sample_mean + margin_of_error)\n",
    "confidence_interval"
   ]
  },
  {
   "cell_type": "code",
   "execution_count": 37,
   "metadata": {},
   "outputs": [
    {
     "name": "stdout",
     "output_type": "stream",
     "text": [
      "1.959963984540054\n"
     ]
    }
   ],
   "source": [
    "print(z_critical_upper)\n"
   ]
  },
  {
   "cell_type": "code",
   "execution_count": 21,
   "metadata": {},
   "outputs": [
    {
     "data": {
      "text/plain": [
       "(14.602027947208931, 22.126805386124403)"
      ]
     },
     "execution_count": 21,
     "metadata": {},
     "output_type": "execute_result"
    }
   ],
   "source": [
    "margin_of_error = z_critical_upper * (pop_std/(sample_size**0.5))\n",
    "confidence_interval = (sample_mean - margin_of_error,\n",
    "                       sample_mean + margin_of_error)\n",
    "confidence_interval"
   ]
  },
  {
   "cell_type": "code",
   "execution_count": 31,
   "metadata": {},
   "outputs": [
    {
     "name": "stdout",
     "output_type": "stream",
     "text": [
      "1.959963984540054\n"
     ]
    },
    {
     "data": {
      "text/plain": [
       "(21.60425633461088, 33.11241033205578)"
      ]
     },
     "execution_count": 31,
     "metadata": {},
     "output_type": "execute_result"
    }
   ],
   "source": [
    "# 95%\n",
    "sample_size = 200\n",
    "sample_mean = sample.mean()\n",
    "sample = np.random.choice(trip_durations, size=20)\n",
    "\n",
    "z_critical_upper = scs.norm.ppf(0.975)\n",
    "print(z_critical_upper)\n",
    "margin_of_error = z_critical_upper * (pop_std/(sample_size**0.5))\n",
    "confidence_interval = (sample_mean - margin_of_error,\n",
    "                       sample_mean + margin_of_error)\n",
    "confidence_interval"
   ]
  },
  {
   "cell_type": "markdown",
   "metadata": {
    "slideshow": {
     "slide_type": "slide"
    }
   },
   "source": [
    "## Student's T Distribution\n",
    "\n",
    "![imgguiness](./img/guiness.png)"
   ]
  },
  {
   "cell_type": "markdown",
   "metadata": {
    "slideshow": {
     "slide_type": "-"
    }
   },
   "source": [
    "We can use the normal distribution when either:\n",
    "* the population standard deviation is known\n",
    "* the sample size is large theoretical greater than 30 in practice greater than 100.\n",
    "\n",
    "If **neither** of those hold true, we need to use the **T-distribution**. The t-distribution is wider and has different critical values for different sample sizes."
   ]
  },
  {
   "cell_type": "markdown",
   "metadata": {
    "slideshow": {
     "slide_type": "slide"
    }
   },
   "source": [
    "PDF of T-distribution: ${\\frac {\\Gamma \\left({\\frac {\\nu +1}{2}}\\right)}{{\\sqrt {\\nu \\pi }}\\,\\Gamma \\left({\\frac {\\nu }{2}}\\right)}}\\left(1+{\\frac {x^{2}}{\\nu }}\\right)^{-{\\frac {\\nu +1}{2}}}\\!$\n",
    "\n",
    "parameter: $\\nu > 0$ where $\\nu$ is degrees of freedom (n-1)"
   ]
  },
  {
   "cell_type": "markdown",
   "metadata": {},
   "source": [
    "**T distribution becomes closer to Z distribuution as n increases**\n",
    "![zvt](./img/z_vs_t.png)"
   ]
  },
  {
   "cell_type": "markdown",
   "metadata": {
    "slideshow": {
     "slide_type": "slide"
    }
   },
   "source": [
    "#### T-Distribution Example"
   ]
  },
  {
   "cell_type": "markdown",
   "metadata": {},
   "source": [
    "1. You are inspecting a hardware factory and want to construct a 90% confidence interval of acceptable screw lengths. You draw a sample of 30 screws and calculate their mean length as 4.8 centimeters and the standard deviation as 0.4 centimeters. What are the bounds of your confidence interval?\n",
    "\n"
   ]
  },
  {
   "cell_type": "code",
   "execution_count": 40,
   "metadata": {},
   "outputs": [],
   "source": [
    "# T-Distrbution\n",
    "import scipy.stats as stats"
   ]
  },
  {
   "cell_type": "code",
   "execution_count": 41,
   "metadata": {},
   "outputs": [
    {
     "data": {
      "text/plain": [
       "(3.9819081431469185, 5.618091856853081)"
      ]
     },
     "execution_count": 41,
     "metadata": {},
     "output_type": "execute_result"
    }
   ],
   "source": [
    "stats.t.interval(alpha = 0.95,      # Confidence level\n",
    "                 df= 30-1,         # Degrees of freedom\n",
    "                 loc = 4.8,       # Sample mean\n",
    "                 scale = 0.4)    # Standard deviation estimate"
   ]
  },
  {
   "cell_type": "code",
   "execution_count": 42,
   "metadata": {},
   "outputs": [
    {
     "data": {
      "text/plain": [
       "(4.679876875296599, 4.920123124703401)"
      ]
     },
     "execution_count": 42,
     "metadata": {},
     "output_type": "execute_result"
    }
   ],
   "source": [
    "# Z-Distribution\n",
    "n = 30\n",
    "mean = 4.8\n",
    "z_critical_upper = scs.norm.ppf(0.95)\n",
    "margin_of_error = z_critical_upper * (0.4/(n**0.5))\n",
    "confidence_interval = (mean - margin_of_error,\n",
    "                       mean + margin_of_error)\n",
    "confidence_interval"
   ]
  },
  {
   "cell_type": "markdown",
   "metadata": {},
   "source": [
    "# What do we notice?"
   ]
  }
 ],
 "metadata": {
  "kernelspec": {
   "display_name": "Python 3",
   "language": "python",
   "name": "python3"
  },
  "language_info": {
   "codemirror_mode": {
    "name": "ipython",
    "version": 3
   },
   "file_extension": ".py",
   "mimetype": "text/x-python",
   "name": "python",
   "nbconvert_exporter": "python",
   "pygments_lexer": "ipython3",
   "version": "3.6.6"
  }
 },
 "nbformat": 4,
 "nbformat_minor": 2
}
